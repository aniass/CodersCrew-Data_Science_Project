{
 "cells": [
  {
   "cell_type": "markdown",
   "metadata": {
    "colab_type": "text",
    "id": "OPN-ifw1L2K0"
   },
   "source": [
    "# Analiza zawartości serwisu Github"
   ]
  },
  {
   "cell_type": "code",
   "execution_count": 0,
   "metadata": {
    "colab": {},
    "colab_type": "code",
    "id": "3cxJYXe0KeL4"
   },
   "outputs": [],
   "source": [
    "import pandas as pd\n",
    "import numpy as np\n",
    "import matplotlib.pyplot as plt\n",
    "import seaborn as sns"
   ]
  },
  {
   "cell_type": "markdown",
   "metadata": {
    "colab_type": "text",
    "id": "KBRaYyx2Of_V"
   },
   "source": [
    "## 1. Analiza repozytoriów GitHub \n",
    "## 1.1 Najpopularniejsze repozytoria\n",
    "Repozytoria z najwiekszą liczbą obserwujących"
   ]
  },
  {
   "cell_type": "code",
   "execution_count": 0,
   "metadata": {
    "colab": {},
    "colab_type": "code",
    "id": "A6r5tsblOhUb"
   },
   "outputs": [],
   "source": [
    "query1 = \"\"\"SELECT repo_name, watch_count\n",
    "        FROM `bigquery-public-data.github_repos.sample_repos`\n",
    "        ORDER BY watch_count DESC \n",
    "        LIMIT 1000\"\"\""
   ]
  },
  {
   "cell_type": "code",
   "execution_count": 0,
   "metadata": {
    "colab": {},
    "colab_type": "code",
    "id": "PuU4qHOQOnPJ"
   },
   "outputs": [],
   "source": [
    "df = pd.read_gbq(query = query1, project_id = 'just-tracer-241713', dialect = 'standard')"
   ]
  },
  {
   "cell_type": "code",
   "execution_count": 0,
   "metadata": {
    "colab": {
     "base_uri": "https://localhost:8080/",
     "height": 206
    },
    "colab_type": "code",
    "id": "Si0Vit3-yZSJ",
    "outputId": "e9151038-40bd-4d40-bca6-baa7b6b5a17d"
   },
   "outputs": [
    {
     "data": {
      "text/html": [
       "<div>\n",
       "<style scoped>\n",
       "    .dataframe tbody tr th:only-of-type {\n",
       "        vertical-align: middle;\n",
       "    }\n",
       "\n",
       "    .dataframe tbody tr th {\n",
       "        vertical-align: top;\n",
       "    }\n",
       "\n",
       "    .dataframe thead th {\n",
       "        text-align: right;\n",
       "    }\n",
       "</style>\n",
       "<table border=\"1\" class=\"dataframe\">\n",
       "  <thead>\n",
       "    <tr style=\"text-align: right;\">\n",
       "      <th></th>\n",
       "      <th>Repository name</th>\n",
       "      <th>watch count</th>\n",
       "    </tr>\n",
       "  </thead>\n",
       "  <tbody>\n",
       "    <tr>\n",
       "      <th>0</th>\n",
       "      <td>FreeCodeCamp/FreeCodeCamp</td>\n",
       "      <td>90457</td>\n",
       "    </tr>\n",
       "    <tr>\n",
       "      <th>1</th>\n",
       "      <td>firehol/netdata</td>\n",
       "      <td>13208</td>\n",
       "    </tr>\n",
       "    <tr>\n",
       "      <th>2</th>\n",
       "      <td>joshbuchea/HEAD</td>\n",
       "      <td>13125</td>\n",
       "    </tr>\n",
       "    <tr>\n",
       "      <th>3</th>\n",
       "      <td>braydie/HowToBeAProgrammer</td>\n",
       "      <td>12019</td>\n",
       "    </tr>\n",
       "    <tr>\n",
       "      <th>4</th>\n",
       "      <td>sindresorhus/awesome</td>\n",
       "      <td>11063</td>\n",
       "    </tr>\n",
       "  </tbody>\n",
       "</table>\n",
       "</div>"
      ],
      "text/plain": [
       "              Repository name  watch count\n",
       "0   FreeCodeCamp/FreeCodeCamp        90457\n",
       "1             firehol/netdata        13208\n",
       "2             joshbuchea/HEAD        13125\n",
       "3  braydie/HowToBeAProgrammer        12019\n",
       "4        sindresorhus/awesome        11063"
      ]
     },
     "execution_count": 75,
     "metadata": {
      "tags": []
     },
     "output_type": "execute_result"
    }
   ],
   "source": [
    "df.columns = ['Repository name', 'watch count']\n",
    "df.head()"
   ]
  },
  {
   "cell_type": "code",
   "execution_count": 0,
   "metadata": {
    "colab": {
     "base_uri": "https://localhost:8080/",
     "height": 373
    },
    "colab_type": "code",
    "id": "DDAbOdvZ54Fj",
    "outputId": "17ed7d04-d0e0-459a-eb14-419d3fc6b83a"
   },
   "outputs": [
    {
     "data": {
      "text/plain": [
       "<matplotlib.axes._subplots.AxesSubplot at 0x7fbf5f868630>"
      ]
     },
     "execution_count": 76,
     "metadata": {
      "tags": []
     },
     "output_type": "execute_result"
    },
    {
     "data": {
      "text/plain": [
       "<Figure size 432x288 with 0 Axes>"
      ]
     },
     "metadata": {
      "tags": []
     },
     "output_type": "display_data"
    },
    {
     "data": {
      "image/png": "[encoded data removed]",
      "text/plain": [
       "<Figure size 504x360 with 1 Axes>"
      ]
     },
     "metadata": {
      "tags": []
     },
     "output_type": "display_data"
    }
   ],
   "source": [
    "plt.figure()\n",
    "df.head(10).plot(kind='barh',figsize=(7,5),grid=True, color = ['red'], \n",
    "                     label='Number of repositories',legend='No of file',\n",
    "                       title='The most popular repositories')"
   ]
  },
  {
   "cell_type": "code",
   "execution_count": 0,
   "metadata": {
    "colab": {
     "base_uri": "https://localhost:8080/",
     "height": 422
    },
    "colab_type": "code",
    "id": "elqp5rKCUI0B",
    "outputId": "d25aeec6-2a6a-48ad-d56b-ea8c0996774d"
   },
   "outputs": [
    {
     "data": {
      "text/plain": [
       "Text(0.5, 1.0, 'The most popular repositories')"
      ]
     },
     "execution_count": 77,
     "metadata": {
      "tags": []
     },
     "output_type": "execute_result"
    },
    {
     "data": {
      "image/png": "[encoded data removed]",
      "text/plain": [
       "<Figure size 576x432 with 1 Axes>"
      ]
     },
     "metadata": {
      "tags": []
     },
     "output_type": "display_data"
    }
   ],
   "source": [
    "plt.figure(figsize = (8,6))\n",
    "sns.barplot(x = 'watch count', y = 'Repository name', data = df.head(10), palette = 'viridis')\n",
    "plt.title('The most popular repositories')"
   ]
  },
  {
   "cell_type": "markdown",
   "metadata": {
    "colab_type": "text",
    "id": "dVeV-7LNB7lr"
   },
   "source": [
    "Według danych najpopularniejszym repozytorium na GitHub jest FreeCodeCamp, która jest opensourcową bazą danych dla bezpłatnej nauki. Liczba obserwujących wynosi ponad 90 tysięcy i zdecydowanie wyprzedza kolejne repozytoria na liście z zaledwie 13 tyś. obserwujących. Wynika z tego, iż największą popularnością cieszą się repozytoria służące do darmowej wspólnej nauki programowania. "
   ]
  },
  {
   "cell_type": "markdown",
   "metadata": {
    "colab_type": "text",
    "id": "CLitjPefygHF"
   },
   "source": [
    "## 1.2 Repozytoria z najwiekszą liczbą plików\n"
   ]
  },
  {
   "cell_type": "code",
   "execution_count": 0,
   "metadata": {
    "colab": {},
    "colab_type": "code",
    "id": "gdb6FrZiRcDO"
   },
   "outputs": [],
   "source": [
    "query_file = \"\"\"SELECT repo_name, COUNT(path) AS num_file\n",
    "FROM `bigquery-public-data.github_repos.files` AS sample_files\n",
    "GROUP BY\n",
    "  repo_name\n",
    "  ORDER BY\n",
    "  num_file DESC\n",
    "  LIMIT 500\"\"\""
   ]
  },
  {
   "cell_type": "code",
   "execution_count": 0,
   "metadata": {
    "colab": {},
    "colab_type": "code",
    "id": "QCnIMaHsyoCI"
   },
   "outputs": [],
   "source": [
    "df_file = pd.read_gbq(query = query_file, project_id = 'just-tracer-241713', dialect = 'standard')"
   ]
  },
  {
   "cell_type": "code",
   "execution_count": 0,
   "metadata": {
    "colab": {
     "base_uri": "https://localhost:8080/",
     "height": 206
    },
    "colab_type": "code",
    "id": "ZlOXr1Zm4jM-",
    "outputId": "4a7bf598-c1c4-431a-da93-b139da1c4245"
   },
   "outputs": [
    {
     "data": {
      "text/html": [
       "<div>\n",
       "<style scoped>\n",
       "    .dataframe tbody tr th:only-of-type {\n",
       "        vertical-align: middle;\n",
       "    }\n",
       "\n",
       "    .dataframe tbody tr th {\n",
       "        vertical-align: top;\n",
       "    }\n",
       "\n",
       "    .dataframe thead th {\n",
       "        text-align: right;\n",
       "    }\n",
       "</style>\n",
       "<table border=\"1\" class=\"dataframe\">\n",
       "  <thead>\n",
       "    <tr style=\"text-align: right;\">\n",
       "      <th></th>\n",
       "      <th>repo_name</th>\n",
       "      <th>num_file</th>\n",
       "    </tr>\n",
       "  </thead>\n",
       "  <tbody>\n",
       "    <tr>\n",
       "      <th>0</th>\n",
       "      <td>cdnjs/cdnjs</td>\n",
       "      <td>5280656</td>\n",
       "    </tr>\n",
       "    <tr>\n",
       "      <th>1</th>\n",
       "      <td>sufuf3/cdnjs</td>\n",
       "      <td>5280654</td>\n",
       "    </tr>\n",
       "    <tr>\n",
       "      <th>2</th>\n",
       "      <td>extend1994/cdnjs</td>\n",
       "      <td>5280654</td>\n",
       "    </tr>\n",
       "    <tr>\n",
       "      <th>3</th>\n",
       "      <td>jonobr1/cdnjs</td>\n",
       "      <td>4925081</td>\n",
       "    </tr>\n",
       "    <tr>\n",
       "      <th>4</th>\n",
       "      <td>seogi1004/cdnjs</td>\n",
       "      <td>4875576</td>\n",
       "    </tr>\n",
       "  </tbody>\n",
       "</table>\n",
       "</div>"
      ],
      "text/plain": [
       "          repo_name  num_file\n",
       "0       cdnjs/cdnjs   5280656\n",
       "1      sufuf3/cdnjs   5280654\n",
       "2  extend1994/cdnjs   5280654\n",
       "3     jonobr1/cdnjs   4925081\n",
       "4   seogi1004/cdnjs   4875576"
      ]
     },
     "execution_count": 67,
     "metadata": {
      "tags": []
     },
     "output_type": "execute_result"
    }
   ],
   "source": [
    "df_file.head()"
   ]
  },
  {
   "cell_type": "code",
   "execution_count": 0,
   "metadata": {
    "colab": {
     "base_uri": "https://localhost:8080/",
     "height": 300
    },
    "colab_type": "code",
    "id": "WosvM0EVXZz5",
    "outputId": "09adeba1-c829-4e79-b945-b3cac2d2a148"
   },
   "outputs": [
    {
     "data": {
      "text/html": [
       "<div>\n",
       "<style scoped>\n",
       "    .dataframe tbody tr th:only-of-type {\n",
       "        vertical-align: middle;\n",
       "    }\n",
       "\n",
       "    .dataframe tbody tr th {\n",
       "        vertical-align: top;\n",
       "    }\n",
       "\n",
       "    .dataframe thead th {\n",
       "        text-align: right;\n",
       "    }\n",
       "</style>\n",
       "<table border=\"1\" class=\"dataframe\">\n",
       "  <thead>\n",
       "    <tr style=\"text-align: right;\">\n",
       "      <th></th>\n",
       "      <th>num_file</th>\n",
       "    </tr>\n",
       "  </thead>\n",
       "  <tbody>\n",
       "    <tr>\n",
       "      <th>count</th>\n",
       "      <td>5.000000e+02</td>\n",
       "    </tr>\n",
       "    <tr>\n",
       "      <th>mean</th>\n",
       "      <td>1.053326e+06</td>\n",
       "    </tr>\n",
       "    <tr>\n",
       "      <th>std</th>\n",
       "      <td>1.030974e+06</td>\n",
       "    </tr>\n",
       "    <tr>\n",
       "      <th>min</th>\n",
       "      <td>2.749590e+05</td>\n",
       "    </tr>\n",
       "    <tr>\n",
       "      <th>25%</th>\n",
       "      <td>3.476110e+05</td>\n",
       "    </tr>\n",
       "    <tr>\n",
       "      <th>50%</th>\n",
       "      <td>7.279225e+05</td>\n",
       "    </tr>\n",
       "    <tr>\n",
       "      <th>75%</th>\n",
       "      <td>1.359834e+06</td>\n",
       "    </tr>\n",
       "    <tr>\n",
       "      <th>max</th>\n",
       "      <td>5.280656e+06</td>\n",
       "    </tr>\n",
       "  </tbody>\n",
       "</table>\n",
       "</div>"
      ],
      "text/plain": [
       "           num_file\n",
       "count  5.000000e+02\n",
       "mean   1.053326e+06\n",
       "std    1.030974e+06\n",
       "min    2.749590e+05\n",
       "25%    3.476110e+05\n",
       "50%    7.279225e+05\n",
       "75%    1.359834e+06\n",
       "max    5.280656e+06"
      ]
     },
     "execution_count": 68,
     "metadata": {
      "tags": []
     },
     "output_type": "execute_result"
    }
   ],
   "source": [
    "df_file.describe()"
   ]
  },
  {
   "cell_type": "code",
   "execution_count": 0,
   "metadata": {
    "colab": {
     "base_uri": "https://localhost:8080/",
     "height": 238
    },
    "colab_type": "code",
    "id": "kNwDuu9u7QaU",
    "outputId": "8d6669c4-b1c9-4fe3-ed92-302b27d16cbd"
   },
   "outputs": [
    {
     "data": {
      "text/html": [
       "<div>\n",
       "<style scoped>\n",
       "    .dataframe tbody tr th:only-of-type {\n",
       "        vertical-align: middle;\n",
       "    }\n",
       "\n",
       "    .dataframe tbody tr th {\n",
       "        vertical-align: top;\n",
       "    }\n",
       "\n",
       "    .dataframe thead th {\n",
       "        text-align: right;\n",
       "    }\n",
       "</style>\n",
       "<table border=\"1\" class=\"dataframe\">\n",
       "  <thead>\n",
       "    <tr style=\"text-align: right;\">\n",
       "      <th></th>\n",
       "      <th>num_file</th>\n",
       "    </tr>\n",
       "    <tr>\n",
       "      <th>repo_name</th>\n",
       "      <th></th>\n",
       "    </tr>\n",
       "  </thead>\n",
       "  <tbody>\n",
       "    <tr>\n",
       "      <th>cdnjs/cdnjs</th>\n",
       "      <td>5280656</td>\n",
       "    </tr>\n",
       "    <tr>\n",
       "      <th>sufuf3/cdnjs</th>\n",
       "      <td>5280654</td>\n",
       "    </tr>\n",
       "    <tr>\n",
       "      <th>extend1994/cdnjs</th>\n",
       "      <td>5280654</td>\n",
       "    </tr>\n",
       "    <tr>\n",
       "      <th>jonobr1/cdnjs</th>\n",
       "      <td>4925081</td>\n",
       "    </tr>\n",
       "    <tr>\n",
       "      <th>seogi1004/cdnjs</th>\n",
       "      <td>4875576</td>\n",
       "    </tr>\n",
       "  </tbody>\n",
       "</table>\n",
       "</div>"
      ],
      "text/plain": [
       "                  num_file\n",
       "repo_name                 \n",
       "cdnjs/cdnjs        5280656\n",
       "sufuf3/cdnjs       5280654\n",
       "extend1994/cdnjs   5280654\n",
       "jonobr1/cdnjs      4925081\n",
       "seogi1004/cdnjs    4875576"
      ]
     },
     "execution_count": 69,
     "metadata": {
      "tags": []
     },
     "output_type": "execute_result"
    }
   ],
   "source": [
    "df_file2 = df_file.set_index('repo_name')\n",
    "df_file2.head()"
   ]
  },
  {
   "cell_type": "code",
   "execution_count": 0,
   "metadata": {
    "colab": {
     "base_uri": "https://localhost:8080/",
     "height": 373
    },
    "colab_type": "code",
    "id": "2USljr_Q7hXM",
    "outputId": "0fb83741-cb96-4a98-9c3b-9e6a8bc31062"
   },
   "outputs": [
    {
     "data": {
      "text/plain": [
       "<matplotlib.axes._subplots.AxesSubplot at 0x7fbf5f8c1128>"
      ]
     },
     "execution_count": 71,
     "metadata": {
      "tags": []
     },
     "output_type": "execute_result"
    },
    {
     "data": {
      "text/plain": [
       "<Figure size 432x288 with 0 Axes>"
      ]
     },
     "metadata": {
      "tags": []
     },
     "output_type": "display_data"
    },
    {
     "data": {
      "image/png": "[encoded data removed]",
      "text/plain": [
       "<Figure size 504x360 with 1 Axes>"
      ]
     },
     "metadata": {
      "tags": []
     },
     "output_type": "display_data"
    }
   ],
   "source": [
    "plt.figure()\n",
    "df_file2.head(10).plot(kind='barh',figsize=(7,5),grid=True, label='Number of repositories',legend='No of file',\n",
    "                       title='Repositories with the largest number of files')"
   ]
  },
  {
   "cell_type": "markdown",
   "metadata": {
    "colab_type": "text",
    "id": "JKD4UPUZBPJw"
   },
   "source": [
    "Największymi repozytoriami pod względem ilości plików są *cdnjs/cdnjst*, *sufuf3/cdnjs* oraz *extend1994/cdnjs*, które posiadają ponad 5 mln plików. Potwierdza to tylko popularność GitHub jako narzędzia do przechowywania kodu oraz wspólnej pracy."
   ]
  },
  {
   "cell_type": "markdown",
   "metadata": {
    "colab_type": "text",
    "id": "6Xic3h5tYizh"
   },
   "source": [
    "# 2. Analiza komitów na GitHub\n",
    "## 2.1 Użytkownicy z największą ilością komitów"
   ]
  },
  {
   "cell_type": "code",
   "execution_count": 1,
   "metadata": {
    "colab": {},
    "colab_type": "code",
    "id": "fmYG2_0sYjfs"
   },
   "outputs": [],
   "source": [
    "query_com = \"\"\"SELECT  \n",
    "author.name as author, COUNT(commit) AS commits_number\n",
    "FROM `bigquery-public-data.github_repos.commits` commits\n",
    "GROUP BY author\n",
    "ORDER BY commits_number DESC\n",
    "LIMIT 10\"\"\""
   ]
  },
  {
   "cell_type": "code",
   "execution_count": 0,
   "metadata": {
    "colab": {},
    "colab_type": "code",
    "id": "0cdFsn7PaxbH"
   },
   "outputs": [],
   "source": [
    "df_aut = pd.read_gbq(query = query_com, project_id = 'just-tracer-241713', dialect = 'standard')"
   ]
  },
  {
   "cell_type": "code",
   "execution_count": 0,
   "metadata": {
    "colab": {
     "base_uri": "https://localhost:8080/",
     "height": 206
    },
    "colab_type": "code",
    "id": "nqz5ZI7ZayBV",
    "outputId": "59aad8e3-88de-4201-dda0-c08633f9a675"
   },
   "outputs": [
    {
     "data": {
      "text/html": [
       "<div>\n",
       "<style scoped>\n",
       "    .dataframe tbody tr th:only-of-type {\n",
       "        vertical-align: middle;\n",
       "    }\n",
       "\n",
       "    .dataframe tbody tr th {\n",
       "        vertical-align: top;\n",
       "    }\n",
       "\n",
       "    .dataframe thead th {\n",
       "        text-align: right;\n",
       "    }\n",
       "</style>\n",
       "<table border=\"1\" class=\"dataframe\">\n",
       "  <thead>\n",
       "    <tr style=\"text-align: right;\">\n",
       "      <th></th>\n",
       "      <th>author</th>\n",
       "      <th>commits_number</th>\n",
       "    </tr>\n",
       "  </thead>\n",
       "  <tbody>\n",
       "    <tr>\n",
       "      <th>0</th>\n",
       "      <td>shenzhouzd</td>\n",
       "      <td>1188430</td>\n",
       "    </tr>\n",
       "    <tr>\n",
       "      <th>1</th>\n",
       "      <td>Auto Pilot</td>\n",
       "      <td>825592</td>\n",
       "    </tr>\n",
       "    <tr>\n",
       "      <th>2</th>\n",
       "      <td>Duane F. King</td>\n",
       "      <td>597940</td>\n",
       "    </tr>\n",
       "    <tr>\n",
       "      <th>3</th>\n",
       "      <td>Marge Spiderworthy</td>\n",
       "      <td>495786</td>\n",
       "    </tr>\n",
       "    <tr>\n",
       "      <th>4</th>\n",
       "      <td>Curt Clifton</td>\n",
       "      <td>384915</td>\n",
       "    </tr>\n",
       "  </tbody>\n",
       "</table>\n",
       "</div>"
      ],
      "text/plain": [
       "               author  commits_number\n",
       "0          shenzhouzd         1188430\n",
       "1          Auto Pilot          825592\n",
       "2       Duane F. King          597940\n",
       "3  Marge Spiderworthy          495786\n",
       "4        Curt Clifton          384915"
      ]
     },
     "execution_count": 19,
     "metadata": {
      "tags": []
     },
     "output_type": "execute_result"
    }
   ],
   "source": [
    "df_aut.head()"
   ]
  },
  {
   "cell_type": "code",
   "execution_count": 0,
   "metadata": {
    "colab": {
     "base_uri": "https://localhost:8080/",
     "height": 423
    },
    "colab_type": "code",
    "id": "Wl0Nql33b-9m",
    "outputId": "6edc8290-dc76-4bab-f46a-ac20bb799b22"
   },
   "outputs": [
    {
     "data": {
      "text/plain": [
       "Text(0.5, 1.0, 'Users with the largest number of commits')"
      ]
     },
     "execution_count": 20,
     "metadata": {
      "tags": []
     },
     "output_type": "execute_result"
    },
    {
     "data": {
      "image/png": "[encoded data removed]",
      "text/plain": [
       "<Figure size 576x432 with 1 Axes>"
      ]
     },
     "metadata": {
      "tags": []
     },
     "output_type": "display_data"
    }
   ],
   "source": [
    "plt.figure(figsize = (8,6))\n",
    "sns.barplot(y = 'author', x = 'commits_number', data = df_aut.head(10), palette = 'inferno')\n",
    "plt.title('Users with the largest number of commits')"
   ]
  },
  {
   "cell_type": "markdown",
   "metadata": {
    "colab_type": "text",
    "id": "-8RdXktPccWB"
   },
   "source": [
    "Najbardziej aktywnym użytkownikiem był \"shenzhouzd\", który wykonał ponad 1,1 mln komitów, zaś kolejni użytkownicy wykonali ponad 800 i 500 tys. Tak imponująca ilość komitów wykonana przez użytkowników świadczy o dużej popularności narzędzia pośród programistów."
   ]
  },
  {
   "cell_type": "markdown",
   "metadata": {
    "colab_type": "text",
    "id": "fb22eDXdTajt"
   },
   "source": [
    "## 2.2 Repozytoria z największą liczbą komitów"
   ]
  },
  {
   "cell_type": "code",
   "execution_count": 0,
   "metadata": {
    "colab": {},
    "colab_type": "code",
    "id": "0vqcPkw9Tb-a"
   },
   "outputs": [],
   "source": [
    "query2_1 = \"\"\"SELECT sample_commits.repo_name, COUNT(commit) AS num_commits\n",
    "FROM `bigquery-public-data.github_repos.sample_commits` AS sample_commits\n",
    "GROUP BY sample_commits.repo_name\n",
    "ORDER BY num_commits DESC\"\"\""
   ]
  },
  {
   "cell_type": "code",
   "execution_count": 0,
   "metadata": {
    "colab": {},
    "colab_type": "code",
    "id": "lbN4mkqzTcjO"
   },
   "outputs": [],
   "source": [
    "df2 = pd.read_gbq(query = query2_1, project_id = 'just-tracer-241713', dialect = 'standard')"
   ]
  },
  {
   "cell_type": "code",
   "execution_count": 0,
   "metadata": {
    "colab": {
     "base_uri": "https://localhost:8080/",
     "height": 238
    },
    "colab_type": "code",
    "id": "w-bgfGdFTlt6",
    "outputId": "b993f870-ef9d-4fd3-8e7c-2e3994bc0e3e"
   },
   "outputs": [
    {
     "data": {
      "text/html": [
       "<div>\n",
       "<style scoped>\n",
       "    .dataframe tbody tr th:only-of-type {\n",
       "        vertical-align: middle;\n",
       "    }\n",
       "\n",
       "    .dataframe tbody tr th {\n",
       "        vertical-align: top;\n",
       "    }\n",
       "\n",
       "    .dataframe thead th {\n",
       "        text-align: right;\n",
       "    }\n",
       "</style>\n",
       "<table border=\"1\" class=\"dataframe\">\n",
       "  <thead>\n",
       "    <tr style=\"text-align: right;\">\n",
       "      <th></th>\n",
       "      <th>num_commits</th>\n",
       "    </tr>\n",
       "    <tr>\n",
       "      <th>repo_name</th>\n",
       "      <th></th>\n",
       "    </tr>\n",
       "  </thead>\n",
       "  <tbody>\n",
       "    <tr>\n",
       "      <th>torvalds/linux</th>\n",
       "      <td>602604</td>\n",
       "    </tr>\n",
       "    <tr>\n",
       "      <th>apple/swift</th>\n",
       "      <td>38891</td>\n",
       "    </tr>\n",
       "    <tr>\n",
       "      <th>twbs/bootstrap</th>\n",
       "      <td>11777</td>\n",
       "    </tr>\n",
       "    <tr>\n",
       "      <th>Microsoft/vscode</th>\n",
       "      <td>6909</td>\n",
       "    </tr>\n",
       "    <tr>\n",
       "      <th>facebook/react</th>\n",
       "      <td>6875</td>\n",
       "    </tr>\n",
       "  </tbody>\n",
       "</table>\n",
       "</div>"
      ],
      "text/plain": [
       "                  num_commits\n",
       "repo_name                    \n",
       "torvalds/linux         602604\n",
       "apple/swift             38891\n",
       "twbs/bootstrap          11777\n",
       "Microsoft/vscode         6909\n",
       "facebook/react           6875"
      ]
     },
     "execution_count": 23,
     "metadata": {
      "tags": []
     },
     "output_type": "execute_result"
    }
   ],
   "source": [
    "df2_2 = df2.set_index('repo_name')\n",
    "df2_2.head()"
   ]
  },
  {
   "cell_type": "code",
   "execution_count": 0,
   "metadata": {
    "colab": {
     "base_uri": "https://localhost:8080/",
     "height": 54
    },
    "colab_type": "code",
    "id": "aDCG59owEWnR",
    "outputId": "6b664595-db40-4cf3-f45c-2aa30b25aa34"
   },
   "outputs": [
    {
     "data": {
      "text/plain": [
       "num_commits    672309\n",
       "dtype: int64"
      ]
     },
     "execution_count": 24,
     "metadata": {
      "tags": []
     },
     "output_type": "execute_result"
    }
   ],
   "source": [
    "df2_2.sum()  # Całkowita liczba komitów w repozytoriach"
   ]
  },
  {
   "cell_type": "code",
   "execution_count": 0,
   "metadata": {
    "colab": {
     "base_uri": "https://localhost:8080/",
     "height": 373
    },
    "colab_type": "code",
    "id": "h7XXKEzAEnnK",
    "outputId": "a3c9e52c-140f-4bf7-8926-65b668d607a4"
   },
   "outputs": [
    {
     "data": {
      "text/plain": [
       "<matplotlib.axes._subplots.AxesSubplot at 0x7fbf609899b0>"
      ]
     },
     "execution_count": 25,
     "metadata": {
      "tags": []
     },
     "output_type": "execute_result"
    },
    {
     "data": {
      "text/plain": [
       "<Figure size 432x288 with 0 Axes>"
      ]
     },
     "metadata": {
      "tags": []
     },
     "output_type": "display_data"
    },
    {
     "data": {
      "image/png": "[encoded data removed]",
      "text/plain": [
       "<Figure size 504x360 with 1 Axes>"
      ]
     },
     "metadata": {
      "tags": []
     },
     "output_type": "display_data"
    }
   ],
   "source": [
    "plt.figure()\n",
    "df2_2.head(5).plot(kind='barh',figsize=(7,5),grid=True, color = ['green'], label='Number of repositories',legend='No of commits',\n",
    "                       title='Repositories with the largest number of commits')"
   ]
  },
  {
   "cell_type": "markdown",
   "metadata": {
    "colab_type": "text",
    "id": "Oe0HKtIjcwL9"
   },
   "source": [
    "Dane pochodzą ze zbioru sample.repos. Wynika z nich, iż repozytorium z największą liczbą komitów to torvalds/linux z ponad 600 tys. komitów. Kolejne repozytoria posiadają juz stosunkowo mniej komitów."
   ]
  },
  {
   "cell_type": "markdown",
   "metadata": {
    "colab_type": "text",
    "id": "W-oUKlA9xGTp"
   },
   "source": [
    "# 3. Analiza języków programowania na GitHub\n",
    "## 3.1 Najpopularniejsze języki"
   ]
  },
  {
   "cell_type": "code",
   "execution_count": 0,
   "metadata": {
    "colab": {},
    "colab_type": "code",
    "id": "x4KGD9FXxHK8"
   },
   "outputs": [],
   "source": [
    "query_lang = \"\"\"WITH lang as (\n",
    "        SELECT language.name AS name\n",
    "        FROM `bigquery-public-data.github_repos.languages` l\n",
    "        CROSS JOIN UNNEST(l.language) as language\n",
    "        )\n",
    "        SELECT name, COUNT(*) AS count\n",
    "        FROM lang\n",
    "        GROUP BY name\n",
    "        ORDER BY count DESC\"\"\""
   ]
  },
  {
   "cell_type": "code",
   "execution_count": 0,
   "metadata": {
    "colab": {},
    "colab_type": "code",
    "id": "ioAcITsixPhI"
   },
   "outputs": [],
   "source": [
    "df_lan = pd.read_gbq(query = query_lang, project_id = 'just-tracer-241713', dialect = 'standard')"
   ]
  },
  {
   "cell_type": "code",
   "execution_count": 0,
   "metadata": {
    "colab": {
     "base_uri": "https://localhost:8080/",
     "height": 394
    },
    "colab_type": "code",
    "id": "FySaB12dxyQ-",
    "outputId": "fc3247d0-141d-491c-b13b-54bd207c8135"
   },
   "outputs": [
    {
     "data": {
      "text/html": [
       "<div>\n",
       "<style scoped>\n",
       "    .dataframe tbody tr th:only-of-type {\n",
       "        vertical-align: middle;\n",
       "    }\n",
       "\n",
       "    .dataframe tbody tr th {\n",
       "        vertical-align: top;\n",
       "    }\n",
       "\n",
       "    .dataframe thead th {\n",
       "        text-align: right;\n",
       "    }\n",
       "</style>\n",
       "<table border=\"1\" class=\"dataframe\">\n",
       "  <thead>\n",
       "    <tr style=\"text-align: right;\">\n",
       "      <th></th>\n",
       "      <th>name</th>\n",
       "      <th>count</th>\n",
       "    </tr>\n",
       "  </thead>\n",
       "  <tbody>\n",
       "    <tr>\n",
       "      <th>0</th>\n",
       "      <td>JavaScript</td>\n",
       "      <td>1109504</td>\n",
       "    </tr>\n",
       "    <tr>\n",
       "      <th>1</th>\n",
       "      <td>CSS</td>\n",
       "      <td>823170</td>\n",
       "    </tr>\n",
       "    <tr>\n",
       "      <th>2</th>\n",
       "      <td>HTML</td>\n",
       "      <td>786897</td>\n",
       "    </tr>\n",
       "    <tr>\n",
       "      <th>3</th>\n",
       "      <td>Shell</td>\n",
       "      <td>641343</td>\n",
       "    </tr>\n",
       "    <tr>\n",
       "      <th>4</th>\n",
       "      <td>Python</td>\n",
       "      <td>551252</td>\n",
       "    </tr>\n",
       "    <tr>\n",
       "      <th>5</th>\n",
       "      <td>Ruby</td>\n",
       "      <td>378118</td>\n",
       "    </tr>\n",
       "    <tr>\n",
       "      <th>6</th>\n",
       "      <td>Java</td>\n",
       "      <td>371532</td>\n",
       "    </tr>\n",
       "    <tr>\n",
       "      <th>7</th>\n",
       "      <td>PHP</td>\n",
       "      <td>343454</td>\n",
       "    </tr>\n",
       "    <tr>\n",
       "      <th>8</th>\n",
       "      <td>C</td>\n",
       "      <td>294519</td>\n",
       "    </tr>\n",
       "    <tr>\n",
       "      <th>9</th>\n",
       "      <td>C++</td>\n",
       "      <td>280587</td>\n",
       "    </tr>\n",
       "    <tr>\n",
       "      <th>10</th>\n",
       "      <td>Makefile</td>\n",
       "      <td>250634</td>\n",
       "    </tr>\n",
       "  </tbody>\n",
       "</table>\n",
       "</div>"
      ],
      "text/plain": [
       "          name    count\n",
       "0   JavaScript  1109504\n",
       "1          CSS   823170\n",
       "2         HTML   786897\n",
       "3        Shell   641343\n",
       "4       Python   551252\n",
       "5         Ruby   378118\n",
       "6         Java   371532\n",
       "7          PHP   343454\n",
       "8            C   294519\n",
       "9          C++   280587\n",
       "10    Makefile   250634"
      ]
     },
     "execution_count": 83,
     "metadata": {
      "tags": []
     },
     "output_type": "execute_result"
    }
   ],
   "source": [
    "df_lan.head(11)"
   ]
  },
  {
   "cell_type": "code",
   "execution_count": 0,
   "metadata": {
    "colab": {
     "base_uri": "https://localhost:8080/",
     "height": 206
    },
    "colab_type": "code",
    "id": "viQ9YYlIyEPr",
    "outputId": "35f787bf-8f71-4a9d-d2ed-b8444bcb40ae"
   },
   "outputs": [
    {
     "data": {
      "text/html": [
       "<div>\n",
       "<style scoped>\n",
       "    .dataframe tbody tr th:only-of-type {\n",
       "        vertical-align: middle;\n",
       "    }\n",
       "\n",
       "    .dataframe tbody tr th {\n",
       "        vertical-align: top;\n",
       "    }\n",
       "\n",
       "    .dataframe thead th {\n",
       "        text-align: right;\n",
       "    }\n",
       "</style>\n",
       "<table border=\"1\" class=\"dataframe\">\n",
       "  <thead>\n",
       "    <tr style=\"text-align: right;\">\n",
       "      <th></th>\n",
       "      <th>language_name</th>\n",
       "      <th>count</th>\n",
       "    </tr>\n",
       "  </thead>\n",
       "  <tbody>\n",
       "    <tr>\n",
       "      <th>0</th>\n",
       "      <td>JavaScript</td>\n",
       "      <td>1109504</td>\n",
       "    </tr>\n",
       "    <tr>\n",
       "      <th>1</th>\n",
       "      <td>CSS</td>\n",
       "      <td>823170</td>\n",
       "    </tr>\n",
       "    <tr>\n",
       "      <th>2</th>\n",
       "      <td>HTML</td>\n",
       "      <td>786897</td>\n",
       "    </tr>\n",
       "    <tr>\n",
       "      <th>3</th>\n",
       "      <td>Shell</td>\n",
       "      <td>641343</td>\n",
       "    </tr>\n",
       "    <tr>\n",
       "      <th>4</th>\n",
       "      <td>Python</td>\n",
       "      <td>551252</td>\n",
       "    </tr>\n",
       "  </tbody>\n",
       "</table>\n",
       "</div>"
      ],
      "text/plain": [
       "  language_name    count\n",
       "0    JavaScript  1109504\n",
       "1           CSS   823170\n",
       "2          HTML   786897\n",
       "3         Shell   641343\n",
       "4        Python   551252"
      ]
     },
     "execution_count": 85,
     "metadata": {
      "tags": []
     },
     "output_type": "execute_result"
    }
   ],
   "source": [
    "df_lan.columns = ['language_name', 'count']\n",
    "df_lan.head()\n"
   ]
  },
  {
   "cell_type": "code",
   "execution_count": 0,
   "metadata": {
    "colab": {
     "base_uri": "https://localhost:8080/",
     "height": 422
    },
    "colab_type": "code",
    "id": "qxilkhSKhWmS",
    "outputId": "027bbdb6-52f2-4492-c515-4cc6026b3228"
   },
   "outputs": [
    {
     "data": {
      "text/plain": [
       "Text(0.5, 1.0, 'The most popular languages')"
      ]
     },
     "execution_count": 87,
     "metadata": {
      "tags": []
     },
     "output_type": "execute_result"
    },
    {
     "data": {
      "image/png": "[encoded data removed]",
      "text/plain": [
       "<Figure size 576x432 with 1 Axes>"
      ]
     },
     "metadata": {
      "tags": []
     },
     "output_type": "display_data"
    }
   ],
   "source": [
    "plt.figure(figsize = (8,6))\n",
    "sns.barplot(x = 'count', y = 'language_name', data = df_lan.head(10), palette = 'viridis')\n",
    "plt.title('The most popular languages')"
   ]
  },
  {
   "cell_type": "markdown",
   "metadata": {
    "colab_type": "text",
    "id": "AdOyCkg0i0x4"
   },
   "source": [
    "Najpopularniejszym językiem na GitHub jest JavaScript , który występuje w ponad 1,1 mln repozytoriów. Kolejnymi często używanym językami są HTML i CSS z ok. 800 tys. repozytoriów. Dwa dość popularne w ostatnim czasie języki Python oraz Java plasują się kolejno na 5 i 7 miejscu."
   ]
  },
  {
   "cell_type": "markdown",
   "metadata": {
    "colab_type": "text",
    "id": "nZq9xSJpyMkg"
   },
   "source": [
    "## 3.2 Liczba plików JavaScript w repozytoriach"
   ]
  },
  {
   "cell_type": "code",
   "execution_count": 0,
   "metadata": {
    "colab": {},
    "colab_type": "code",
    "id": "3kXil4ohy-0k"
   },
   "outputs": [],
   "source": [
    "query4 = \"\"\"SELECT COUNT(*) AS num_js\n",
    "FROM `bigquery-public-data.github_repos.sample_files`\n",
    "WHERE path LIKE '%.js'\n",
    "LIMIT 500\"\"\""
   ]
  },
  {
   "cell_type": "code",
   "execution_count": 0,
   "metadata": {
    "colab": {},
    "colab_type": "code",
    "id": "0yyMmSSPNibm"
   },
   "outputs": [],
   "source": [
    "df_js = pd.read_gbq(query = query4, project_id = 'just-tracer-241713', dialect = 'standard')"
   ]
  },
  {
   "cell_type": "code",
   "execution_count": 0,
   "metadata": {
    "colab": {
     "base_uri": "https://localhost:8080/",
     "height": 81
    },
    "colab_type": "code",
    "id": "ODal76kDNu59",
    "outputId": "052f60f8-f5fc-40b3-c278-7c2673c37bd8"
   },
   "outputs": [
    {
     "data": {
      "text/html": [
       "<div>\n",
       "<style scoped>\n",
       "    .dataframe tbody tr th:only-of-type {\n",
       "        vertical-align: middle;\n",
       "    }\n",
       "\n",
       "    .dataframe tbody tr th {\n",
       "        vertical-align: top;\n",
       "    }\n",
       "\n",
       "    .dataframe thead th {\n",
       "        text-align: right;\n",
       "    }\n",
       "</style>\n",
       "<table border=\"1\" class=\"dataframe\">\n",
       "  <thead>\n",
       "    <tr style=\"text-align: right;\">\n",
       "      <th></th>\n",
       "      <th>num_js</th>\n",
       "    </tr>\n",
       "  </thead>\n",
       "  <tbody>\n",
       "    <tr>\n",
       "      <th>0</th>\n",
       "      <td>5939091</td>\n",
       "    </tr>\n",
       "  </tbody>\n",
       "</table>\n",
       "</div>"
      ],
      "text/plain": [
       "    num_js\n",
       "0  5939091"
      ]
     },
     "execution_count": 31,
     "metadata": {
      "tags": []
     },
     "output_type": "execute_result"
    }
   ],
   "source": [
    "df_js"
   ]
  },
  {
   "cell_type": "markdown",
   "metadata": {
    "colab_type": "text",
    "id": "2PU4LhJPF8-4"
   },
   "source": [
    "Całkowita liczba plików JavaScript w repozytoriach wynosi prawie 6 milionów. Znaczna ilość plików świadczy o dużej popularności tego języka wśród programistów. Dlatego też JavaScript jest najpopularniejszym językiem na GitHub."
   ]
  },
  {
   "cell_type": "markdown",
   "metadata": {
    "colab_type": "text",
    "id": "aFap5c0VXCfP"
   },
   "source": [
    "## 3.3 Repozytoria z największą liczbą plików JavaScript"
   ]
  },
  {
   "cell_type": "code",
   "execution_count": 0,
   "metadata": {
    "colab": {},
    "colab_type": "code",
    "id": "lkVkiOq1X8rd"
   },
   "outputs": [],
   "source": [
    "query4_1 = \"\"\"SELECT sample_files.repo_name, COUNT(path) AS num_file\n",
    "FROM `bigquery-public-data.github_repos.sample_files` AS sample_files\n",
    "WHERE path LIKE '%.js'\n",
    "GROUP BY\n",
    "  repo_name\n",
    "  ORDER BY\n",
    "  num_file DESC\n",
    "  LIMIT 1000\"\"\""
   ]
  },
  {
   "cell_type": "code",
   "execution_count": 0,
   "metadata": {
    "colab": {},
    "colab_type": "code",
    "id": "Wj2AirHTX9NZ"
   },
   "outputs": [],
   "source": [
    "df_js2 = pd.read_gbq(query = query4_1, project_id = 'just-tracer-241713', dialect = 'standard')"
   ]
  },
  {
   "cell_type": "code",
   "execution_count": 0,
   "metadata": {
    "colab": {
     "base_uri": "https://localhost:8080/",
     "height": 206
    },
    "colab_type": "code",
    "id": "a-sPrjOFX9t9",
    "outputId": "52025d6a-59c2-4e5d-afa6-79c8f9447290"
   },
   "outputs": [
    {
     "data": {
      "text/html": [
       "<div>\n",
       "<style scoped>\n",
       "    .dataframe tbody tr th:only-of-type {\n",
       "        vertical-align: middle;\n",
       "    }\n",
       "\n",
       "    .dataframe tbody tr th {\n",
       "        vertical-align: top;\n",
       "    }\n",
       "\n",
       "    .dataframe thead th {\n",
       "        text-align: right;\n",
       "    }\n",
       "</style>\n",
       "<table border=\"1\" class=\"dataframe\">\n",
       "  <thead>\n",
       "    <tr style=\"text-align: right;\">\n",
       "      <th></th>\n",
       "      <th>repo_name</th>\n",
       "      <th>num_file</th>\n",
       "    </tr>\n",
       "  </thead>\n",
       "  <tbody>\n",
       "    <tr>\n",
       "      <th>0</th>\n",
       "      <td>cdnjs/cdnjs</td>\n",
       "      <td>602357</td>\n",
       "    </tr>\n",
       "    <tr>\n",
       "      <th>1</th>\n",
       "      <td>Piicksarn/cdnjs</td>\n",
       "      <td>565786</td>\n",
       "    </tr>\n",
       "    <tr>\n",
       "      <th>2</th>\n",
       "      <td>bootcdn/cdnjs</td>\n",
       "      <td>505563</td>\n",
       "    </tr>\n",
       "    <tr>\n",
       "      <th>3</th>\n",
       "      <td>jsdelivr/jsdelivr</td>\n",
       "      <td>81845</td>\n",
       "    </tr>\n",
       "    <tr>\n",
       "      <th>4</th>\n",
       "      <td>rahulpnath/Blog</td>\n",
       "      <td>81008</td>\n",
       "    </tr>\n",
       "  </tbody>\n",
       "</table>\n",
       "</div>"
      ],
      "text/plain": [
       "           repo_name  num_file\n",
       "0        cdnjs/cdnjs    602357\n",
       "1    Piicksarn/cdnjs    565786\n",
       "2      bootcdn/cdnjs    505563\n",
       "3  jsdelivr/jsdelivr     81845\n",
       "4    rahulpnath/Blog     81008"
      ]
     },
     "execution_count": 34,
     "metadata": {
      "tags": []
     },
     "output_type": "execute_result"
    }
   ],
   "source": [
    "df_js2.head()"
   ]
  },
  {
   "cell_type": "code",
   "execution_count": 0,
   "metadata": {
    "colab": {
     "base_uri": "https://localhost:8080/",
     "height": 238
    },
    "colab_type": "code",
    "id": "82_jdItJHB7E",
    "outputId": "5242a8b3-6dd3-4b6e-f819-b9fead91bc3b"
   },
   "outputs": [
    {
     "data": {
      "text/html": [
       "<div>\n",
       "<style scoped>\n",
       "    .dataframe tbody tr th:only-of-type {\n",
       "        vertical-align: middle;\n",
       "    }\n",
       "\n",
       "    .dataframe tbody tr th {\n",
       "        vertical-align: top;\n",
       "    }\n",
       "\n",
       "    .dataframe thead th {\n",
       "        text-align: right;\n",
       "    }\n",
       "</style>\n",
       "<table border=\"1\" class=\"dataframe\">\n",
       "  <thead>\n",
       "    <tr style=\"text-align: right;\">\n",
       "      <th></th>\n",
       "      <th>num_file</th>\n",
       "    </tr>\n",
       "    <tr>\n",
       "      <th>repo_name</th>\n",
       "      <th></th>\n",
       "    </tr>\n",
       "  </thead>\n",
       "  <tbody>\n",
       "    <tr>\n",
       "      <th>cdnjs/cdnjs</th>\n",
       "      <td>602357</td>\n",
       "    </tr>\n",
       "    <tr>\n",
       "      <th>Piicksarn/cdnjs</th>\n",
       "      <td>565786</td>\n",
       "    </tr>\n",
       "    <tr>\n",
       "      <th>bootcdn/cdnjs</th>\n",
       "      <td>505563</td>\n",
       "    </tr>\n",
       "    <tr>\n",
       "      <th>jsdelivr/jsdelivr</th>\n",
       "      <td>81845</td>\n",
       "    </tr>\n",
       "    <tr>\n",
       "      <th>rahulpnath/Blog</th>\n",
       "      <td>81008</td>\n",
       "    </tr>\n",
       "  </tbody>\n",
       "</table>\n",
       "</div>"
      ],
      "text/plain": [
       "                   num_file\n",
       "repo_name                  \n",
       "cdnjs/cdnjs          602357\n",
       "Piicksarn/cdnjs      565786\n",
       "bootcdn/cdnjs        505563\n",
       "jsdelivr/jsdelivr     81845\n",
       "rahulpnath/Blog       81008"
      ]
     },
     "execution_count": 35,
     "metadata": {
      "tags": []
     },
     "output_type": "execute_result"
    }
   ],
   "source": [
    "df_fjs = df_js2.set_index('repo_name')\n",
    "df_fjs.head()"
   ]
  },
  {
   "cell_type": "code",
   "execution_count": 0,
   "metadata": {
    "colab": {
     "base_uri": "https://localhost:8080/",
     "height": 373
    },
    "colab_type": "code",
    "id": "UkEeqH_8Jwfn",
    "outputId": "b1a304e1-5e21-46fb-c4c5-37c2e757952b"
   },
   "outputs": [
    {
     "data": {
      "text/plain": [
       "<matplotlib.axes._subplots.AxesSubplot at 0x7fbf5fd9be48>"
      ]
     },
     "execution_count": 62,
     "metadata": {
      "tags": []
     },
     "output_type": "execute_result"
    },
    {
     "data": {
      "text/plain": [
       "<Figure size 432x288 with 0 Axes>"
      ]
     },
     "metadata": {
      "tags": []
     },
     "output_type": "display_data"
    },
    {
     "data": {
      "image/png": "[encoded data removed]",
      "text/plain": [
       "<Figure size 504x360 with 1 Axes>"
      ]
     },
     "metadata": {
      "tags": []
     },
     "output_type": "display_data"
    }
   ],
   "source": [
    "plt.figure()\n",
    "df_fjs.head(10).plot(kind='barh',figsize=(7,5),grid=True, color = ['pink'], label='Number of repositories',legend='No of file',\n",
    "                       title='Repositories with the largest number of JavaScript files')"
   ]
  },
  {
   "cell_type": "markdown",
   "metadata": {
    "colab_type": "text",
    "id": "Q7IGc0_TLw8d"
   },
   "source": [
    "Repozytorium z największą ilością plików JavaScript jest *cdnjs/cdnjs* z ponad 600 tys. plików, natomiast kolejne zawierają ponad 500 tys. Duża ilość plików, rownież świadczy o wielkiej popularności języka JavaScript wśród użytkowników serwisu.\n",
    "\n"
   ]
  },
  {
   "cell_type": "markdown",
   "metadata": {
    "colab_type": "text",
    "id": "tmrtRV2iZGLx"
   },
   "source": [
    "## 3.4 Repozytoria z największą liczbą komitów JavaScript"
   ]
  },
  {
   "cell_type": "code",
   "execution_count": 0,
   "metadata": {
    "colab": {},
    "colab_type": "code",
    "id": "05IEKxicZGvD"
   },
   "outputs": [],
   "source": [
    "query4_2 = \"\"\"SELECT sample_commits.repo_name, COUNT(commit) AS num_commits\n",
    "FROM `bigquery-public-data.github_repos.sample_commits` AS sample_commits\n",
    "JOIN  `bigquery-public-data.github_repos.sample_files` AS sample_files\n",
    "ON sample_commits.repo_name = sample_files.repo_name\n",
    "WHERE path LIKE '%.js' \n",
    "GROUP BY sample_commits.repo_name\n",
    "ORDER BY num_commits DESC\n",
    "\"\"\""
   ]
  },
  {
   "cell_type": "code",
   "execution_count": 0,
   "metadata": {
    "colab": {},
    "colab_type": "code",
    "id": "542S8U6-ZHVA"
   },
   "outputs": [],
   "source": [
    "df_js3 = pd.read_gbq(query = query4_2, project_id = 'just-tracer-241713', dialect = 'standard')"
   ]
  },
  {
   "cell_type": "code",
   "execution_count": 0,
   "metadata": {
    "colab": {
     "base_uri": "https://localhost:8080/",
     "height": 206
    },
    "colab_type": "code",
    "id": "I5HMKzLMZH1P",
    "outputId": "abe2435d-199b-4f81-884e-064cc266e4ec"
   },
   "outputs": [
    {
     "data": {
      "text/html": [
       "<div>\n",
       "<style scoped>\n",
       "    .dataframe tbody tr th:only-of-type {\n",
       "        vertical-align: middle;\n",
       "    }\n",
       "\n",
       "    .dataframe tbody tr th {\n",
       "        vertical-align: top;\n",
       "    }\n",
       "\n",
       "    .dataframe thead th {\n",
       "        text-align: right;\n",
       "    }\n",
       "</style>\n",
       "<table border=\"1\" class=\"dataframe\">\n",
       "  <thead>\n",
       "    <tr style=\"text-align: right;\">\n",
       "      <th></th>\n",
       "      <th>repo_name</th>\n",
       "      <th>num_commits</th>\n",
       "    </tr>\n",
       "  </thead>\n",
       "  <tbody>\n",
       "    <tr>\n",
       "      <th>0</th>\n",
       "      <td>facebook/react</td>\n",
       "      <td>2832500</td>\n",
       "    </tr>\n",
       "    <tr>\n",
       "      <th>1</th>\n",
       "      <td>twbs/bootstrap</td>\n",
       "      <td>694843</td>\n",
       "    </tr>\n",
       "    <tr>\n",
       "      <th>2</th>\n",
       "      <td>Microsoft/vscode</td>\n",
       "      <td>462903</td>\n",
       "    </tr>\n",
       "    <tr>\n",
       "      <th>3</th>\n",
       "      <td>apple/swift</td>\n",
       "      <td>38891</td>\n",
       "    </tr>\n",
       "    <tr>\n",
       "      <th>4</th>\n",
       "      <td>tensorflow/tensorflow</td>\n",
       "      <td>36771</td>\n",
       "    </tr>\n",
       "  </tbody>\n",
       "</table>\n",
       "</div>"
      ],
      "text/plain": [
       "               repo_name  num_commits\n",
       "0         facebook/react      2832500\n",
       "1         twbs/bootstrap       694843\n",
       "2       Microsoft/vscode       462903\n",
       "3            apple/swift        38891\n",
       "4  tensorflow/tensorflow        36771"
      ]
     },
     "execution_count": 39,
     "metadata": {
      "tags": []
     },
     "output_type": "execute_result"
    }
   ],
   "source": [
    "df_js3.head()"
   ]
  },
  {
   "cell_type": "code",
   "execution_count": 0,
   "metadata": {
    "colab": {
     "base_uri": "https://localhost:8080/",
     "height": 206
    },
    "colab_type": "code",
    "id": "L6lbSHJjL7HY",
    "outputId": "d48761e2-6cc0-488d-f5ba-59453a1b34b1"
   },
   "outputs": [
    {
     "data": {
      "text/html": [
       "<div>\n",
       "<style scoped>\n",
       "    .dataframe tbody tr th:only-of-type {\n",
       "        vertical-align: middle;\n",
       "    }\n",
       "\n",
       "    .dataframe tbody tr th {\n",
       "        vertical-align: top;\n",
       "    }\n",
       "\n",
       "    .dataframe thead th {\n",
       "        text-align: right;\n",
       "    }\n",
       "</style>\n",
       "<table border=\"1\" class=\"dataframe\">\n",
       "  <thead>\n",
       "    <tr style=\"text-align: right;\">\n",
       "      <th></th>\n",
       "      <th>Repository_name</th>\n",
       "      <th>number of commits</th>\n",
       "    </tr>\n",
       "  </thead>\n",
       "  <tbody>\n",
       "    <tr>\n",
       "      <th>0</th>\n",
       "      <td>facebook/react</td>\n",
       "      <td>2832500</td>\n",
       "    </tr>\n",
       "    <tr>\n",
       "      <th>1</th>\n",
       "      <td>twbs/bootstrap</td>\n",
       "      <td>694843</td>\n",
       "    </tr>\n",
       "    <tr>\n",
       "      <th>2</th>\n",
       "      <td>Microsoft/vscode</td>\n",
       "      <td>462903</td>\n",
       "    </tr>\n",
       "    <tr>\n",
       "      <th>3</th>\n",
       "      <td>apple/swift</td>\n",
       "      <td>38891</td>\n",
       "    </tr>\n",
       "    <tr>\n",
       "      <th>4</th>\n",
       "      <td>tensorflow/tensorflow</td>\n",
       "      <td>36771</td>\n",
       "    </tr>\n",
       "  </tbody>\n",
       "</table>\n",
       "</div>"
      ],
      "text/plain": [
       "         Repository_name  number of commits\n",
       "0         facebook/react            2832500\n",
       "1         twbs/bootstrap             694843\n",
       "2       Microsoft/vscode             462903\n",
       "3            apple/swift              38891\n",
       "4  tensorflow/tensorflow              36771"
      ]
     },
     "execution_count": 40,
     "metadata": {
      "tags": []
     },
     "output_type": "execute_result"
    }
   ],
   "source": [
    "df_js3.columns = ['Repository_name', 'number of commits']\n",
    "df_js3.head(10)"
   ]
  },
  {
   "cell_type": "code",
   "execution_count": 0,
   "metadata": {
    "colab": {
     "base_uri": "https://localhost:8080/",
     "height": 72
    },
    "colab_type": "code",
    "id": "aOJVAzWILx_U",
    "outputId": "e5855469-3d68-49f1-88cf-b8e81778a2bb"
   },
   "outputs": [
    {
     "data": {
      "text/plain": [
       "Repository_name      facebook/reacttwbs/bootstrapMicrosoft/vscodeap...\n",
       "number of commits                                              4065908\n",
       "dtype: object"
      ]
     },
     "execution_count": 42,
     "metadata": {
      "tags": []
     },
     "output_type": "execute_result"
    }
   ],
   "source": [
    "df_js3.sum()  #Całkowita liczba commitów JavaScript"
   ]
  },
  {
   "cell_type": "code",
   "execution_count": 0,
   "metadata": {
    "colab": {
     "base_uri": "https://localhost:8080/",
     "height": 423
    },
    "colab_type": "code",
    "id": "-TTTTFQLLylB",
    "outputId": "e5f69146-4b1d-4cef-c38f-2841f955dbd9"
   },
   "outputs": [
    {
     "data": {
      "text/plain": [
       "Text(0.5, 1.0, 'Repositories with the largest number of JavaScript commits')"
      ]
     },
     "execution_count": 61,
     "metadata": {
      "tags": []
     },
     "output_type": "execute_result"
    },
    {
     "data": {
      "image/png": "[encoded data removed]",
      "text/plain": [
       "<Figure size 576x432 with 1 Axes>"
      ]
     },
     "metadata": {
      "tags": []
     },
     "output_type": "display_data"
    }
   ],
   "source": [
    "plt.figure(figsize=(8,6))\n",
    "sns.barplot(y = 'number of commits', x = 'Repository_name', data = df_js3.head(10), palette = 'BuGn')\n",
    "plt.title('Repositories with the largest number of JavaScript commits')"
   ]
  },
  {
   "cell_type": "markdown",
   "metadata": {
    "colab_type": "text",
    "id": "uCPh9eo1R-RZ"
   },
   "source": [
    "Dane pochodzą ze zbioru sample.files. Najwięcej komitów plików JavaScript ponad 2,8 mln zawiera repozytorium *facebook/react*, kolejne repozytorium *twbs/bootstrap* posiada już tylko ponad 600 tys. komitów. Znacza ilość komitów JavaScript, także potwierdza dużą popularność tego języka. "
   ]
  },
  {
   "cell_type": "markdown",
   "metadata": {
    "colab_type": "text",
    "id": "C1FdXRMGQh44"
   },
   "source": [
    "## 3.5 Liczba plików Python w repozytoriach"
   ]
  },
  {
   "cell_type": "code",
   "execution_count": 0,
   "metadata": {
    "colab": {},
    "colab_type": "code",
    "id": "v7yl0xmjQijg"
   },
   "outputs": [],
   "source": [
    "query_py = \"\"\"SELECT COUNT(*) AS num_py\n",
    "FROM `bigquery-public-data.github_repos.sample_files`\n",
    "WHERE path LIKE '%.py'\n",
    "LIMIT 500\"\"\""
   ]
  },
  {
   "cell_type": "code",
   "execution_count": 0,
   "metadata": {
    "colab": {},
    "colab_type": "code",
    "id": "pk8qYIE8QjKS"
   },
   "outputs": [],
   "source": [
    "df_py = pd.read_gbq(query = query_py, project_id = 'just-tracer-241713', dialect = 'standard')"
   ]
  },
  {
   "cell_type": "code",
   "execution_count": 0,
   "metadata": {
    "colab": {
     "base_uri": "https://localhost:8080/",
     "height": 81
    },
    "colab_type": "code",
    "id": "f1oAem3kRX88",
    "outputId": "10977b49-4c2b-4300-a0d4-af201c5d69fa"
   },
   "outputs": [
    {
     "data": {
      "text/html": [
       "<div>\n",
       "<style scoped>\n",
       "    .dataframe tbody tr th:only-of-type {\n",
       "        vertical-align: middle;\n",
       "    }\n",
       "\n",
       "    .dataframe tbody tr th {\n",
       "        vertical-align: top;\n",
       "    }\n",
       "\n",
       "    .dataframe thead th {\n",
       "        text-align: right;\n",
       "    }\n",
       "</style>\n",
       "<table border=\"1\" class=\"dataframe\">\n",
       "  <thead>\n",
       "    <tr style=\"text-align: right;\">\n",
       "      <th></th>\n",
       "      <th>num_py</th>\n",
       "    </tr>\n",
       "  </thead>\n",
       "  <tbody>\n",
       "    <tr>\n",
       "      <th>0</th>\n",
       "      <td>1231972</td>\n",
       "    </tr>\n",
       "  </tbody>\n",
       "</table>\n",
       "</div>"
      ],
      "text/plain": [
       "    num_py\n",
       "0  1231972"
      ]
     },
     "execution_count": 46,
     "metadata": {
      "tags": []
     },
     "output_type": "execute_result"
    }
   ],
   "source": [
    "df_py"
   ]
  },
  {
   "cell_type": "markdown",
   "metadata": {
    "colab_type": "text",
    "id": "VG-rE89PMzwq"
   },
   "source": [
    "Całkowita liczba plików python w repozytoriach wynosi ponad milion. Jest to pięć razy mniej niż plików języka JavaScript"
   ]
  },
  {
   "cell_type": "markdown",
   "metadata": {
    "colab_type": "text",
    "id": "QDL2b8rs36kf"
   },
   "source": [
    "## 3.6 Repozytoria z największą liczbą plików Python"
   ]
  },
  {
   "cell_type": "code",
   "execution_count": 0,
   "metadata": {
    "colab": {},
    "colab_type": "code",
    "id": "H3NaUNg24z9Y"
   },
   "outputs": [],
   "source": [
    "query5 = \"\"\"SELECT sample_files.repo_name, COUNT(path) AS num_file\n",
    "FROM `bigquery-public-data.github_repos.sample_files` AS sample_files\n",
    "WHERE path LIKE '%.py' \n",
    "GROUP BY\n",
    "  repo_name\n",
    "  ORDER BY\n",
    "  num_file DESC\n",
    "  LIMIT 1000\"\"\""
   ]
  },
  {
   "cell_type": "code",
   "execution_count": 0,
   "metadata": {
    "colab": {},
    "colab_type": "code",
    "id": "ncYdDPfE5aL-"
   },
   "outputs": [],
   "source": [
    "df_repo = pd.read_gbq(query = query5, project_id = 'just-tracer-241713', dialect = 'standard')"
   ]
  },
  {
   "cell_type": "code",
   "execution_count": 0,
   "metadata": {
    "colab": {
     "base_uri": "https://localhost:8080/",
     "height": 238
    },
    "colab_type": "code",
    "id": "TcFYHBQZ6e1Y",
    "outputId": "5ce15911-08a8-4e85-d8b1-34c2838e75a3"
   },
   "outputs": [
    {
     "data": {
      "text/html": [
       "<div>\n",
       "<style scoped>\n",
       "    .dataframe tbody tr th:only-of-type {\n",
       "        vertical-align: middle;\n",
       "    }\n",
       "\n",
       "    .dataframe tbody tr th {\n",
       "        vertical-align: top;\n",
       "    }\n",
       "\n",
       "    .dataframe thead th {\n",
       "        text-align: right;\n",
       "    }\n",
       "</style>\n",
       "<table border=\"1\" class=\"dataframe\">\n",
       "  <thead>\n",
       "    <tr style=\"text-align: right;\">\n",
       "      <th></th>\n",
       "      <th>num_file</th>\n",
       "    </tr>\n",
       "    <tr>\n",
       "      <th>repo_name</th>\n",
       "      <th></th>\n",
       "    </tr>\n",
       "  </thead>\n",
       "  <tbody>\n",
       "    <tr>\n",
       "      <th>anhstudios/swganh</th>\n",
       "      <td>16380</td>\n",
       "    </tr>\n",
       "    <tr>\n",
       "      <th>mollstam/UnrealPy</th>\n",
       "      <td>12225</td>\n",
       "    </tr>\n",
       "    <tr>\n",
       "      <th>iridium-browser/iridium-browser-ubuntu</th>\n",
       "      <td>7873</td>\n",
       "    </tr>\n",
       "    <tr>\n",
       "      <th>JetBrains/intellij-community</th>\n",
       "      <td>7467</td>\n",
       "    </tr>\n",
       "    <tr>\n",
       "      <th>bugvm/bugvm-studio</th>\n",
       "      <td>6935</td>\n",
       "    </tr>\n",
       "  </tbody>\n",
       "</table>\n",
       "</div>"
      ],
      "text/plain": [
       "                                        num_file\n",
       "repo_name                                       \n",
       "anhstudios/swganh                          16380\n",
       "mollstam/UnrealPy                          12225\n",
       "iridium-browser/iridium-browser-ubuntu      7873\n",
       "JetBrains/intellij-community                7467\n",
       "bugvm/bugvm-studio                          6935"
      ]
     },
     "execution_count": 49,
     "metadata": {
      "tags": []
     },
     "output_type": "execute_result"
    }
   ],
   "source": [
    "df_repo2 = df_repo.set_index('repo_name')\n",
    "df_repo2.head()"
   ]
  },
  {
   "cell_type": "code",
   "execution_count": 0,
   "metadata": {
    "colab": {
     "base_uri": "https://localhost:8080/",
     "height": 373
    },
    "colab_type": "code",
    "id": "t40RrBGYL1ci",
    "outputId": "896b1f4e-2c76-4eb5-85c2-f24ad4aac8fc"
   },
   "outputs": [
    {
     "data": {
      "text/plain": [
       "<matplotlib.axes._subplots.AxesSubplot at 0x7fbf5fcb0630>"
      ]
     },
     "execution_count": 63,
     "metadata": {
      "tags": []
     },
     "output_type": "execute_result"
    },
    {
     "data": {
      "text/plain": [
       "<Figure size 432x288 with 0 Axes>"
      ]
     },
     "metadata": {
      "tags": []
     },
     "output_type": "display_data"
    },
    {
     "data": {
      "image/png": "[encoded data removed]",
      "text/plain": [
       "<Figure size 504x360 with 1 Axes>"
      ]
     },
     "metadata": {
      "tags": []
     },
     "output_type": "display_data"
    }
   ],
   "source": [
    "plt.figure()\n",
    "df_repo2.head(10).plot(kind='barh',figsize=(7,5),grid=True, color = ['purple'], label='Number of repositories',legend='No of file',\n",
    "                       title='Repositories with the largest number of Python files')"
   ]
  },
  {
   "cell_type": "markdown",
   "metadata": {
    "colab_type": "text",
    "id": "zzg7vPZcREpr"
   },
   "source": [
    "Repozytoria z największą ilością plików python to *anhstudios/swganh*, które zawiera ponad 16 tys. plików oraz *mollstam/UnrealPy* z ponad 12 tys/ plików. Ilość plików python w repozytoriach jest znacznie mniejsza niż plików JavaScript, jednkże widać dość duże zainteresowanie tym językiem pośród programistów. Warto rownież zwrócić uwagę, iż większość repozytoriów związana jest z projektami opensourcowymi rozwijanymi przez społeczność programistów,  co także rzutuje na wielkość ich repozytoriów."
   ]
  },
  {
   "cell_type": "markdown",
   "metadata": {
    "colab_type": "text",
    "id": "E94_krXD5fT_"
   },
   "source": [
    "## 3.7 Repozytoria z największą liczbą komitów Python"
   ]
  },
  {
   "cell_type": "code",
   "execution_count": 0,
   "metadata": {
    "colab": {},
    "colab_type": "code",
    "id": "YRGgHcAJ5f59"
   },
   "outputs": [],
   "source": [
    "query6 = \"\"\"SELECT sample_commits.repo_name, COUNT(commit) AS num_commits\n",
    "FROM `bigquery-public-data.github_repos.sample_commits` AS sample_commits\n",
    "JOIN  `bigquery-public-data.github_repos.sample_files` AS sample_files\n",
    "ON sample_commits.repo_name = sample_files.repo_name\n",
    "WHERE path LIKE '%.py' \n",
    "GROUP BY sample_commits.repo_name\n",
    "ORDER BY num_commits DESC\n",
    "\"\"\""
   ]
  },
  {
   "cell_type": "code",
   "execution_count": 0,
   "metadata": {
    "colab": {},
    "colab_type": "code",
    "id": "h_VhlDdmGxT_"
   },
   "outputs": [],
   "source": [
    "df_com = pd.read_gbq(query = query6, project_id = 'just-tracer-241713', dialect = 'standard')"
   ]
  },
  {
   "cell_type": "code",
   "execution_count": 0,
   "metadata": {
    "colab": {
     "base_uri": "https://localhost:8080/",
     "height": 206
    },
    "colab_type": "code",
    "id": "LGKkIZELPvx2",
    "outputId": "2a14eed7-33b8-4adb-991c-83a3612f6cb7"
   },
   "outputs": [
    {
     "data": {
      "text/html": [
       "<div>\n",
       "<style scoped>\n",
       "    .dataframe tbody tr th:only-of-type {\n",
       "        vertical-align: middle;\n",
       "    }\n",
       "\n",
       "    .dataframe tbody tr th {\n",
       "        vertical-align: top;\n",
       "    }\n",
       "\n",
       "    .dataframe thead th {\n",
       "        text-align: right;\n",
       "    }\n",
       "</style>\n",
       "<table border=\"1\" class=\"dataframe\">\n",
       "  <thead>\n",
       "    <tr style=\"text-align: right;\">\n",
       "      <th></th>\n",
       "      <th>repo_name</th>\n",
       "      <th>num_commits</th>\n",
       "    </tr>\n",
       "  </thead>\n",
       "  <tbody>\n",
       "    <tr>\n",
       "      <th>0</th>\n",
       "      <td>torvalds/linux</td>\n",
       "      <td>23501556</td>\n",
       "    </tr>\n",
       "    <tr>\n",
       "      <th>1</th>\n",
       "      <td>tensorflow/tensorflow</td>\n",
       "      <td>4128858</td>\n",
       "    </tr>\n",
       "    <tr>\n",
       "      <th>2</th>\n",
       "      <td>apple/swift</td>\n",
       "      <td>4044664</td>\n",
       "    </tr>\n",
       "    <tr>\n",
       "      <th>3</th>\n",
       "      <td>facebook/react</td>\n",
       "      <td>13750</td>\n",
       "    </tr>\n",
       "    <tr>\n",
       "      <th>4</th>\n",
       "      <td>Microsoft/vscode</td>\n",
       "      <td>6909</td>\n",
       "    </tr>\n",
       "  </tbody>\n",
       "</table>\n",
       "</div>"
      ],
      "text/plain": [
       "               repo_name  num_commits\n",
       "0         torvalds/linux     23501556\n",
       "1  tensorflow/tensorflow      4128858\n",
       "2            apple/swift      4044664\n",
       "3         facebook/react        13750\n",
       "4       Microsoft/vscode         6909"
      ]
     },
     "execution_count": 56,
     "metadata": {
      "tags": []
     },
     "output_type": "execute_result"
    }
   ],
   "source": [
    "df_com.colums = ['Repo_name', 'num_commits']\n",
    "df_com.head()"
   ]
  },
  {
   "cell_type": "code",
   "execution_count": 0,
   "metadata": {
    "colab": {
     "base_uri": "https://localhost:8080/",
     "height": 422
    },
    "colab_type": "code",
    "id": "_H2j7orOL261",
    "outputId": "23f2d6b6-3155-4491-ab14-fc75c18538ab"
   },
   "outputs": [
    {
     "data": {
      "text/plain": [
       "Text(0.5, 1.0, 'Repositories with the largest number of Python commits')"
      ]
     },
     "execution_count": 60,
     "metadata": {
      "tags": []
     },
     "output_type": "execute_result"
    },
    {
     "data": {
      "image/png": "[encoded data removed]",
      "text/plain": [
       "<Figure size 576x432 with 1 Axes>"
      ]
     },
     "metadata": {
      "tags": []
     },
     "output_type": "display_data"
    }
   ],
   "source": [
    "plt.figure(figsize=(8,6))\n",
    "sns.barplot(y = 'num_commits', x = 'repo_name', data = df_com.head(5), palette = 'winter')\n",
    "plt.title('Repositories with the largest number of Python commits')"
   ]
  },
  {
   "cell_type": "markdown",
   "metadata": {
    "colab_type": "text",
    "id": "u8TNsTN2RwVO"
   },
   "source": [
    "Najwięcej komitów związanych z językiem python zawiera repozytorium *torvalds/linux* z ponad 23 mln komitów, kolejne *tensorflow/tensorflow* oraz *apple/swift* posiadają już tylko ponad 4 mln. W porównaniu do języka JavaScript, ilość komitów Python jest przeważająca, dzięki czemu widać rosnące zaiteresowanie tym językiem wśród programistów. "
   ]
  }
 ],
 "metadata": {
  "colab": {
   "collapsed_sections": [],
   "name": "Analiza github.ipynb",
   "provenance": [],
   "version": "0.3.2"
  },
  "kernelspec": {
   "display_name": "Python 3",
   "language": "python",
   "name": "python3"
  },
  "language_info": {
   "codemirror_mode": {
    "name": "ipython",
    "version": 3
   },
   "file_extension": ".py",
   "mimetype": "text/x-python",
   "name": "python",
   "nbconvert_exporter": "python",
   "pygments_lexer": "ipython3",
   "version": "3.6.7"
  }
 },
 "nbformat": 4,
 "nbformat_minor": 1
}
