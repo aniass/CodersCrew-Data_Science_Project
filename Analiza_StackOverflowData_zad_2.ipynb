{
 "cells": [
  {
   "cell_type": "markdown",
   "metadata": {
    "colab_type": "text",
    "id": "XijW_fmdddNc"
   },
   "source": [
    "# Analiza zawartości serwisu StackOverflow\n"
   ]
  },
  {
   "cell_type": "code",
   "execution_count": 2,
   "metadata": {
    "colab": {},
    "colab_type": "code",
    "id": "rrLGPTfAvbFf"
   },
   "outputs": [],
   "source": [
    "import pandas as pd\n",
    "import numpy as np\n",
    "import matplotlib.pyplot as plt\n",
    "import seaborn as sns\n"
   ]
  },
  {
   "cell_type": "markdown",
   "metadata": {
    "colab_type": "text",
    "id": "fPIsDytQ6HnN"
   },
   "source": [
    "# 1. Analiza użytkowników StackOverflow\n",
    "## 1.1 Analiza liczby utworzonych kont"
   ]
  },
  {
   "cell_type": "code",
   "execution_count": 0,
   "metadata": {
    "colab": {},
    "colab_type": "code",
    "id": "VQYYOtuO6My0"
   },
   "outputs": [],
   "source": [
    "query3 = \"\"\"SELECT\n",
    "  EXTRACT(YEAR FROM creation_date) AS Year,\n",
    "  COUNT(*) AS Created_Account\n",
    "FROM\n",
    "  `bigquery-public-data.stackoverflow.users` \n",
    "GROUP BY\n",
    "  Year\n",
    "HAVING\n",
    "  Year > 2008 AND Year <= 2019\n",
    "ORDER BY\n",
    "  Year\"\"\""
   ]
  },
  {
   "cell_type": "code",
   "execution_count": 0,
   "metadata": {
    "colab": {},
    "colab_type": "code",
    "id": "Xi-agaFa6XU8"
   },
   "outputs": [],
   "source": [
    "df_count = pd.read_gbq(query = query3, project_id = 'just-tracer-241713', dialect = 'standard')"
   ]
  },
  {
   "cell_type": "code",
   "execution_count": 9,
   "metadata": {
    "colab": {
     "base_uri": "https://localhost:8080/",
     "height": 426
    },
    "colab_type": "code",
    "id": "Yy79USry6iyS",
    "outputId": "13d8f39d-eb01-4348-baa8-1b161e95b146"
   },
   "outputs": [
    {
     "data": {
      "text/html": [
       "<div>\n",
       "<style scoped>\n",
       "    .dataframe tbody tr th:only-of-type {\n",
       "        vertical-align: middle;\n",
       "    }\n",
       "\n",
       "    .dataframe tbody tr th {\n",
       "        vertical-align: top;\n",
       "    }\n",
       "\n",
       "    .dataframe thead th {\n",
       "        text-align: right;\n",
       "    }\n",
       "</style>\n",
       "<table border=\"1\" class=\"dataframe\">\n",
       "  <thead>\n",
       "    <tr style=\"text-align: right;\">\n",
       "      <th></th>\n",
       "      <th>Created_Account</th>\n",
       "    </tr>\n",
       "    <tr>\n",
       "      <th>Year</th>\n",
       "      <th></th>\n",
       "    </tr>\n",
       "  </thead>\n",
       "  <tbody>\n",
       "    <tr>\n",
       "      <th>2009</th>\n",
       "      <td>78121</td>\n",
       "    </tr>\n",
       "    <tr>\n",
       "      <th>2010</th>\n",
       "      <td>199458</td>\n",
       "    </tr>\n",
       "    <tr>\n",
       "      <th>2011</th>\n",
       "      <td>359295</td>\n",
       "    </tr>\n",
       "    <tr>\n",
       "      <th>2012</th>\n",
       "      <td>680175</td>\n",
       "    </tr>\n",
       "    <tr>\n",
       "      <th>2013</th>\n",
       "      <td>1124859</td>\n",
       "    </tr>\n",
       "    <tr>\n",
       "      <th>2014</th>\n",
       "      <td>1177982</td>\n",
       "    </tr>\n",
       "    <tr>\n",
       "      <th>2015</th>\n",
       "      <td>1256515</td>\n",
       "    </tr>\n",
       "    <tr>\n",
       "      <th>2016</th>\n",
       "      <td>1521332</td>\n",
       "    </tr>\n",
       "    <tr>\n",
       "      <th>2017</th>\n",
       "      <td>1733857</td>\n",
       "    </tr>\n",
       "    <tr>\n",
       "      <th>2018</th>\n",
       "      <td>1653671</td>\n",
       "    </tr>\n",
       "    <tr>\n",
       "      <th>2019</th>\n",
       "      <td>721725</td>\n",
       "    </tr>\n",
       "  </tbody>\n",
       "</table>\n",
       "</div>"
      ],
      "text/plain": [
       "      Created_Account\n",
       "Year                 \n",
       "2009            78121\n",
       "2010           199458\n",
       "2011           359295\n",
       "2012           680175\n",
       "2013          1124859\n",
       "2014          1177982\n",
       "2015          1256515\n",
       "2016          1521332\n",
       "2017          1733857\n",
       "2018          1653671\n",
       "2019           721725"
      ]
     },
     "execution_count": 9,
     "metadata": {
      "tags": []
     },
     "output_type": "execute_result"
    }
   ],
   "source": [
    "df_count.set_index('Year')"
   ]
  },
  {
   "cell_type": "code",
   "execution_count": 10,
   "metadata": {
    "colab": {
     "base_uri": "https://localhost:8080/",
     "height": 329
    },
    "colab_type": "code",
    "id": "CEP28uD26qce",
    "outputId": "269f0270-d6ea-41b5-dc9b-eeab01259411"
   },
   "outputs": [
    {
     "data": {
      "text/plain": [
       "<matplotlib.axes._subplots.AxesSubplot at 0x7fa518b5f710>"
      ]
     },
     "execution_count": 10,
     "metadata": {
      "tags": []
     },
     "output_type": "execute_result"
    },
    {
     "data": {
      "image/png": "[encoded data removed]",
      "text/plain": [
       "<Figure size 432x288 with 1 Axes>"
      ]
     },
     "metadata": {
      "tags": []
     },
     "output_type": "display_data"
    }
   ],
   "source": [
    "df_count[0:10].set_index('Year').plot(kind = 'bar', color = ['green'], title = 'Number of created account')"
   ]
  },
  {
   "cell_type": "markdown",
   "metadata": {
    "colab_type": "text",
    "id": "slgVP8S66vrU"
   },
   "source": [
    "Na podstawie otrzymanych analiz można zaobserwować znaczny wzrost utworzonych kont na portalu, a co za tym idzie liczbę jego użytkowników. Najwiekszy przyrost miał miejsce miedzy 2012 a 2013 rokiem, gdzie liczba użytkowników wzrosła do ponad miliona. Następnie dalej wzrastała aż do 2017 roku, gdzie osiągneła największą wartość. Od roku 2018 obserwuję sie nieznaczy spadek ilości utworzonych kont."
   ]
  },
  {
   "cell_type": "markdown",
   "metadata": {
    "colab_type": "text",
    "id": "3R-x1NYRBvIK"
   },
   "source": [
    "## **1.2 Analiza ilości odpowiedzi**\n",
    "\n",
    " Odpowiedzi z podziałem na lata oraz procent odpowiedzi wraz z komentarzami"
   ]
  },
  {
   "cell_type": "code",
   "execution_count": 0,
   "metadata": {
    "colab": {},
    "colab_type": "code",
    "id": "KSRCLs5DzLWz"
   },
   "outputs": [],
   "source": [
    "query1 = \"\"\"SELECT \n",
    "EXTRACT(YEAR FROM posts_answers.creation_date) AS Year,\n",
    "  COUNT(*) AS Number_of_Answers,\n",
    "  ROUND(100 * SUM(IF(comment_count > 0, 1, 0)) / COUNT(*), 1) AS Percent_Answers_with_Comments\n",
    "FROM\n",
    "  `bigquery-public-data.stackoverflow.posts_answers` posts_answers\n",
    "GROUP BY\n",
    "  Year\n",
    "HAVING\n",
    "  Year > 2008 AND Year <= 2019\n",
    "ORDER BY\n",
    "  Year; \"\"\""
   ]
  },
  {
   "cell_type": "code",
   "execution_count": 0,
   "metadata": {
    "colab": {},
    "colab_type": "code",
    "id": "kB_7vLJUvaTF"
   },
   "outputs": [],
   "source": [
    "\n",
    "df = pd.read_gbq(query = query1, project_id = 'just-tracer-241713', dialect = 'standard')"
   ]
  },
  {
   "cell_type": "code",
   "execution_count": 4,
   "metadata": {
    "colab": {
     "base_uri": "https://localhost:8080/",
     "height": 426
    },
    "colab_type": "code",
    "id": "7woyCPdYpzUr",
    "outputId": "9e2f1d12-d5ad-4a3b-de39-cfcf8ce581da"
   },
   "outputs": [
    {
     "data": {
      "text/html": [
       "<div>\n",
       "<style scoped>\n",
       "    .dataframe tbody tr th:only-of-type {\n",
       "        vertical-align: middle;\n",
       "    }\n",
       "\n",
       "    .dataframe tbody tr th {\n",
       "        vertical-align: top;\n",
       "    }\n",
       "\n",
       "    .dataframe thead th {\n",
       "        text-align: right;\n",
       "    }\n",
       "</style>\n",
       "<table border=\"1\" class=\"dataframe\">\n",
       "  <thead>\n",
       "    <tr style=\"text-align: right;\">\n",
       "      <th></th>\n",
       "      <th>Number_of_Answers</th>\n",
       "      <th>Percent_Answers_with_Comments</th>\n",
       "    </tr>\n",
       "    <tr>\n",
       "      <th>Year</th>\n",
       "      <th></th>\n",
       "      <th></th>\n",
       "    </tr>\n",
       "  </thead>\n",
       "  <tbody>\n",
       "    <tr>\n",
       "      <th>2009</th>\n",
       "      <td>941435</td>\n",
       "      <td>49.2</td>\n",
       "    </tr>\n",
       "    <tr>\n",
       "      <th>2010</th>\n",
       "      <td>1466906</td>\n",
       "      <td>52.9</td>\n",
       "    </tr>\n",
       "    <tr>\n",
       "      <th>2011</th>\n",
       "      <td>2277230</td>\n",
       "      <td>53.6</td>\n",
       "    </tr>\n",
       "    <tr>\n",
       "      <th>2012</th>\n",
       "      <td>2836010</td>\n",
       "      <td>54.0</td>\n",
       "    </tr>\n",
       "    <tr>\n",
       "      <th>2013</th>\n",
       "      <td>3331821</td>\n",
       "      <td>52.4</td>\n",
       "    </tr>\n",
       "    <tr>\n",
       "      <th>2014</th>\n",
       "      <td>3211582</td>\n",
       "      <td>50.6</td>\n",
       "    </tr>\n",
       "    <tr>\n",
       "      <th>2015</th>\n",
       "      <td>3158846</td>\n",
       "      <td>49.9</td>\n",
       "    </tr>\n",
       "    <tr>\n",
       "      <th>2016</th>\n",
       "      <td>3090999</td>\n",
       "      <td>48.7</td>\n",
       "    </tr>\n",
       "    <tr>\n",
       "      <th>2017</th>\n",
       "      <td>2928426</td>\n",
       "      <td>47.0</td>\n",
       "    </tr>\n",
       "    <tr>\n",
       "      <th>2018</th>\n",
       "      <td>2582563</td>\n",
       "      <td>44.5</td>\n",
       "    </tr>\n",
       "    <tr>\n",
       "      <th>2019</th>\n",
       "      <td>1067073</td>\n",
       "      <td>41.1</td>\n",
       "    </tr>\n",
       "  </tbody>\n",
       "</table>\n",
       "</div>"
      ],
      "text/plain": [
       "      Number_of_Answers  Percent_Answers_with_Comments\n",
       "Year                                                  \n",
       "2009             941435                           49.2\n",
       "2010            1466906                           52.9\n",
       "2011            2277230                           53.6\n",
       "2012            2836010                           54.0\n",
       "2013            3331821                           52.4\n",
       "2014            3211582                           50.6\n",
       "2015            3158846                           49.9\n",
       "2016            3090999                           48.7\n",
       "2017            2928426                           47.0\n",
       "2018            2582563                           44.5\n",
       "2019            1067073                           41.1"
      ]
     },
     "execution_count": 4,
     "metadata": {
      "tags": []
     },
     "output_type": "execute_result"
    }
   ],
   "source": [
    "df.set_index('Year')"
   ]
  },
  {
   "cell_type": "code",
   "execution_count": 5,
   "metadata": {
    "colab": {
     "base_uri": "https://localhost:8080/",
     "height": 329
    },
    "colab_type": "code",
    "id": "njN_sYTOanJi",
    "outputId": "741adfe9-47de-4c1b-c39d-6bc552267239"
   },
   "outputs": [
    {
     "data": {
      "text/plain": [
       "<matplotlib.axes._subplots.AxesSubplot at 0x7fa51b499c88>"
      ]
     },
     "execution_count": 5,
     "metadata": {
      "tags": []
     },
     "output_type": "execute_result"
    },
    {
     "data": {
      "image/png": "[encoded data removed]",
      "text/plain": [
       "<Figure size 432x288 with 1 Axes>"
      ]
     },
     "metadata": {
      "tags": []
     },
     "output_type": "display_data"
    }
   ],
   "source": [
    "df[0:11].set_index('Year').plot(kind = 'bar', title = 'Number of answers an percent answers with comments in the range for years')"
   ]
  },
  {
   "cell_type": "markdown",
   "metadata": {
    "colab_type": "text",
    "id": "Y84iN8jVnBw4"
   },
   "source": [
    "Na wykresie można zauważyć stały wzrost liczby udzielanych odpowiedzi. Największy wzrost miał miejsce w 2013 roku, po tym czasie widać już nieznaczy spadek. Wciąż jednak można zaobserwować znaczne zainteresowanie użytkowników udzielaniem odpowiedzi na pojawiające się pytania."
   ]
  },
  {
   "cell_type": "markdown",
   "metadata": {
    "colab_type": "text",
    "id": "ZPq8alDlIEmY"
   },
   "source": [
    "## **1.3 Aktywność w udzielaniu odpowiedzi**\n",
    "\n",
    "Aktywność odpowiedzi w stosunku do daty ostatniej aktywności"
   ]
  },
  {
   "cell_type": "code",
   "execution_count": 0,
   "metadata": {
    "colab": {},
    "colab_type": "code",
    "id": "DPWe3jdKH8ya"
   },
   "outputs": [],
   "source": [
    "query2 = \"\"\"SELECT\n",
    "  EXTRACT(YEAR FROM last_activity_date) AS Year,\n",
    "  COUNT(*) AS Activity\n",
    "FROM\n",
    "  `bigquery-public-data.stackoverflow.posts_answers`\n",
    "GROUP BY\n",
    "  Year\n",
    "HAVING\n",
    "  Year > 2008 AND Year <= 2019\n",
    "ORDER BY\n",
    "  Year; \"\"\""
   ]
  },
  {
   "cell_type": "code",
   "execution_count": 0,
   "metadata": {
    "colab": {},
    "colab_type": "code",
    "id": "sl_jzrhq06GV"
   },
   "outputs": [],
   "source": [
    "df2 = pd.read_gbq(query = query2, project_id = 'just-tracer-241713', dialect = 'standard')"
   ]
  },
  {
   "cell_type": "code",
   "execution_count": 49,
   "metadata": {
    "colab": {
     "base_uri": "https://localhost:8080/",
     "height": 206
    },
    "colab_type": "code",
    "id": "AxOcQRab0Ew6",
    "outputId": "4dd600c6-5cf0-4d3b-a56f-306cfed148da"
   },
   "outputs": [
    {
     "data": {
      "text/html": [
       "<div>\n",
       "<style scoped>\n",
       "    .dataframe tbody tr th:only-of-type {\n",
       "        vertical-align: middle;\n",
       "    }\n",
       "\n",
       "    .dataframe tbody tr th {\n",
       "        vertical-align: top;\n",
       "    }\n",
       "\n",
       "    .dataframe thead th {\n",
       "        text-align: right;\n",
       "    }\n",
       "</style>\n",
       "<table border=\"1\" class=\"dataframe\">\n",
       "  <thead>\n",
       "    <tr style=\"text-align: right;\">\n",
       "      <th></th>\n",
       "      <th>Year</th>\n",
       "      <th>Activity</th>\n",
       "    </tr>\n",
       "  </thead>\n",
       "  <tbody>\n",
       "    <tr>\n",
       "      <th>0</th>\n",
       "      <td>2009</td>\n",
       "      <td>872251</td>\n",
       "    </tr>\n",
       "    <tr>\n",
       "      <th>1</th>\n",
       "      <td>2010</td>\n",
       "      <td>1378147</td>\n",
       "    </tr>\n",
       "    <tr>\n",
       "      <th>2</th>\n",
       "      <td>2011</td>\n",
       "      <td>2181060</td>\n",
       "    </tr>\n",
       "    <tr>\n",
       "      <th>3</th>\n",
       "      <td>2012</td>\n",
       "      <td>2771188</td>\n",
       "    </tr>\n",
       "    <tr>\n",
       "      <th>4</th>\n",
       "      <td>2013</td>\n",
       "      <td>3283833</td>\n",
       "    </tr>\n",
       "  </tbody>\n",
       "</table>\n",
       "</div>"
      ],
      "text/plain": [
       "   Year  Activity\n",
       "0  2009    872251\n",
       "1  2010   1378147\n",
       "2  2011   2181060\n",
       "3  2012   2771188\n",
       "4  2013   3283833"
      ]
     },
     "execution_count": 49,
     "metadata": {
      "tags": []
     },
     "output_type": "execute_result"
    }
   ],
   "source": [
    "df2.columns = ['Year', 'Activity']\n",
    "df2.head()"
   ]
  },
  {
   "cell_type": "code",
   "execution_count": 54,
   "metadata": {
    "colab": {
     "base_uri": "https://localhost:8080/",
     "height": 329
    },
    "colab_type": "code",
    "id": "XYuBwcLinaWC",
    "outputId": "79614c84-8be6-4ab4-e97f-66ab83eb9a7a"
   },
   "outputs": [
    {
     "data": {
      "text/plain": [
       "<matplotlib.axes._subplots.AxesSubplot at 0x7fa513db55f8>"
      ]
     },
     "execution_count": 54,
     "metadata": {
      "tags": []
     },
     "output_type": "execute_result"
    },
    {
     "data": {
      "image/png": "[encoded data removed]",
      "text/plain": [
       "<Figure size 432x288 with 1 Axes>"
      ]
     },
     "metadata": {
      "tags": []
     },
     "output_type": "display_data"
    }
   ],
   "source": [
    "df2[0:10].set_index('Year').plot(kind = 'bar', color = ['orange'], title = 'Activity in providing answers')"
   ]
  },
  {
   "cell_type": "markdown",
   "metadata": {
    "colab_type": "text",
    "id": "NTC7NkHXo8MY"
   },
   "source": [
    "Na podstawie dat ostatnich logowań do serwisu można częściowo oszacować aktywność użytkowników w udzielaniu odpowiedzi. Widać, że największy wzrost miał miejsce w 2013 roku,  ponad 3 mln użytkowników. Od roku 2014 obserwuje się nieznaczny spadek, lecz wciąż utrzymujący sie na wysokim poziomie, który świadczy o wysokim zaangażaowaniu użytkowników w udzielaniu odpowiedzi i komentarzy. "
   ]
  },
  {
   "cell_type": "markdown",
   "metadata": {
    "colab_type": "text",
    "id": "h2k_eAB9WtqP"
   },
   "source": [
    "# 2. Analiza użytkowników będacych studentami\n",
    "## 2.1 Ilość użytkowników, którzy w opisie podali status studenta"
   ]
  },
  {
   "cell_type": "code",
   "execution_count": 0,
   "metadata": {
    "colab": {},
    "colab_type": "code",
    "id": "CEyB4IvmWs0W"
   },
   "outputs": [],
   "source": [
    "query4 = \"\"\"SELECT about_me,\n",
    "  COUNT(*) AS Users_student\n",
    "FROM\n",
    "  `bigquery-public-data.stackoverflow.users`\n",
    "WHERE about_me LIKE '%student%' OR about_me like '%Student%'\n",
    "GROUP BY\n",
    "  about_me\n",
    "ORDER BY\n",
    "  Users_student DESC, about_me DESC\"\"\""
   ]
  },
  {
   "cell_type": "code",
   "execution_count": 0,
   "metadata": {
    "colab": {},
    "colab_type": "code",
    "id": "fwfv3i9CfNwc"
   },
   "outputs": [],
   "source": [
    "df_stud = pd.read_gbq(query = query4, project_id = 'just-tracer-241713', dialect = 'standard')"
   ]
  },
  {
   "cell_type": "code",
   "execution_count": 17,
   "metadata": {
    "colab": {
     "base_uri": "https://localhost:8080/",
     "height": 206
    },
    "colab_type": "code",
    "id": "JXNhr42QfOru",
    "outputId": "a3ef1f4c-ff26-4218-fc72-a239f98c0100"
   },
   "outputs": [
    {
     "data": {
      "text/html": [
       "<div>\n",
       "<style scoped>\n",
       "    .dataframe tbody tr th:only-of-type {\n",
       "        vertical-align: middle;\n",
       "    }\n",
       "\n",
       "    .dataframe tbody tr th {\n",
       "        vertical-align: top;\n",
       "    }\n",
       "\n",
       "    .dataframe thead th {\n",
       "        text-align: right;\n",
       "    }\n",
       "</style>\n",
       "<table border=\"1\" class=\"dataframe\">\n",
       "  <thead>\n",
       "    <tr style=\"text-align: right;\">\n",
       "      <th></th>\n",
       "      <th>about_me</th>\n",
       "      <th>Users_student</th>\n",
       "    </tr>\n",
       "  </thead>\n",
       "  <tbody>\n",
       "    <tr>\n",
       "      <th>0</th>\n",
       "      <td>&lt;p&gt;Student&lt;/p&gt;</td>\n",
       "      <td>953</td>\n",
       "    </tr>\n",
       "    <tr>\n",
       "      <th>1</th>\n",
       "      <td>&lt;p&gt;student&lt;/p&gt;</td>\n",
       "      <td>294</td>\n",
       "    </tr>\n",
       "    <tr>\n",
       "      <th>2</th>\n",
       "      <td>&lt;p&gt;Computer Science Student&lt;/p&gt;</td>\n",
       "      <td>168</td>\n",
       "    </tr>\n",
       "    <tr>\n",
       "      <th>3</th>\n",
       "      <td>&lt;p&gt;Student.&lt;/p&gt;</td>\n",
       "      <td>151</td>\n",
       "    </tr>\n",
       "    <tr>\n",
       "      <th>4</th>\n",
       "      <td>&lt;p&gt;Computer Science student&lt;/p&gt;</td>\n",
       "      <td>123</td>\n",
       "    </tr>\n",
       "  </tbody>\n",
       "</table>\n",
       "</div>"
      ],
      "text/plain": [
       "                          about_me  Users_student\n",
       "0                   <p>Student</p>            953\n",
       "1                   <p>student</p>            294\n",
       "2  <p>Computer Science Student</p>            168\n",
       "3                  <p>Student.</p>            151\n",
       "4  <p>Computer Science student</p>            123"
      ]
     },
     "execution_count": 17,
     "metadata": {
      "tags": []
     },
     "output_type": "execute_result"
    }
   ],
   "source": [
    "df_stud.head()"
   ]
  },
  {
   "cell_type": "code",
   "execution_count": 18,
   "metadata": {
    "colab": {
     "base_uri": "https://localhost:8080/",
     "height": 35
    },
    "colab_type": "code",
    "id": "jE8xzt9pf5K3",
    "outputId": "8ceab9f2-7ad3-4f45-d5bd-c3455d51c453"
   },
   "outputs": [
    {
     "data": {
      "text/plain": [
       "65205"
      ]
     },
     "execution_count": 18,
     "metadata": {
      "tags": []
     },
     "output_type": "execute_result"
    }
   ],
   "source": [
    "df_stud['Users_student'].sum()"
   ]
  },
  {
   "cell_type": "markdown",
   "metadata": {
    "colab_type": "text",
    "id": "WE54kVvwHxv3"
   },
   "source": [
    "Ilość osób, która zadeklarowała bycie studentem jest znaczna i wynosi ponad 60 tysięcy użytkowników. Jednak osób ze statusem studenta, bądź uczących się może być w serwisie znacznie więcej, ponieważ nie każdy mógł zaznaczyć w opisie swój status. Pokazuje to również, iż znacznie częściej użytkownikami portalu są nie tylko osoby już pracujące na co dzień z danymi technologiami lecz także studenci i osoby dopiero uczące się. "
   ]
  },
  {
   "cell_type": "markdown",
   "metadata": {
    "colab_type": "text",
    "id": "6aLuS4YBgP1d"
   },
   "source": [
    "## 2.2 Aktywność studentów w serwisie\n",
    "\n",
    "Aktywność rozumiana jako data ostatniego logowania do serwisu"
   ]
  },
  {
   "cell_type": "code",
   "execution_count": 0,
   "metadata": {
    "colab": {},
    "colab_type": "code",
    "id": "nO3QjTCvo9S-"
   },
   "outputs": [],
   "source": [
    "query5 = \"\"\"SELECT\n",
    "  EXTRACT(YEAR FROM last_access_date) AS Year,\n",
    "  COUNT(*) AS Students_Activity\n",
    "FROM\n",
    "  `bigquery-public-data.stackoverflow.users`\n",
    "WHERE about_me LIKE '%student%' OR about_me like '%Student%'\n",
    "GROUP BY\n",
    "  Year\n",
    "HAVING\n",
    "  Year > 2008 AND Year <= 2019\n",
    "ORDER BY\n",
    "  Year\"\"\""
   ]
  },
  {
   "cell_type": "code",
   "execution_count": 0,
   "metadata": {
    "colab": {},
    "colab_type": "code",
    "id": "HF__Gk5Po-EF"
   },
   "outputs": [],
   "source": [
    "df_stud2 = pd.read_gbq(query = query5, project_id = 'just-tracer-241713', dialect = 'standard')"
   ]
  },
  {
   "cell_type": "code",
   "execution_count": 72,
   "metadata": {
    "colab": {
     "base_uri": "https://localhost:8080/",
     "height": 363
    },
    "colab_type": "code",
    "id": "4_zCqViP03n1",
    "outputId": "087642bc-1989-4007-c887-be85079b187a"
   },
   "outputs": [
    {
     "data": {
      "text/html": [
       "<div>\n",
       "<style scoped>\n",
       "    .dataframe tbody tr th:only-of-type {\n",
       "        vertical-align: middle;\n",
       "    }\n",
       "\n",
       "    .dataframe tbody tr th {\n",
       "        vertical-align: top;\n",
       "    }\n",
       "\n",
       "    .dataframe thead th {\n",
       "        text-align: right;\n",
       "    }\n",
       "</style>\n",
       "<table border=\"1\" class=\"dataframe\">\n",
       "  <thead>\n",
       "    <tr style=\"text-align: right;\">\n",
       "      <th></th>\n",
       "      <th>Year</th>\n",
       "      <th>Students Activity</th>\n",
       "    </tr>\n",
       "  </thead>\n",
       "  <tbody>\n",
       "    <tr>\n",
       "      <th>0</th>\n",
       "      <td>2009</td>\n",
       "      <td>50</td>\n",
       "    </tr>\n",
       "    <tr>\n",
       "      <th>1</th>\n",
       "      <td>2010</td>\n",
       "      <td>160</td>\n",
       "    </tr>\n",
       "    <tr>\n",
       "      <th>2</th>\n",
       "      <td>2011</td>\n",
       "      <td>326</td>\n",
       "    </tr>\n",
       "    <tr>\n",
       "      <th>3</th>\n",
       "      <td>2012</td>\n",
       "      <td>831</td>\n",
       "    </tr>\n",
       "    <tr>\n",
       "      <th>4</th>\n",
       "      <td>2013</td>\n",
       "      <td>1993</td>\n",
       "    </tr>\n",
       "    <tr>\n",
       "      <th>5</th>\n",
       "      <td>2014</td>\n",
       "      <td>3511</td>\n",
       "    </tr>\n",
       "    <tr>\n",
       "      <th>6</th>\n",
       "      <td>2015</td>\n",
       "      <td>4526</td>\n",
       "    </tr>\n",
       "    <tr>\n",
       "      <th>7</th>\n",
       "      <td>2016</td>\n",
       "      <td>4464</td>\n",
       "    </tr>\n",
       "    <tr>\n",
       "      <th>8</th>\n",
       "      <td>2017</td>\n",
       "      <td>6725</td>\n",
       "    </tr>\n",
       "    <tr>\n",
       "      <th>9</th>\n",
       "      <td>2018</td>\n",
       "      <td>11707</td>\n",
       "    </tr>\n",
       "  </tbody>\n",
       "</table>\n",
       "</div>"
      ],
      "text/plain": [
       "   Year  Students Activity\n",
       "0  2009                 50\n",
       "1  2010                160\n",
       "2  2011                326\n",
       "3  2012                831\n",
       "4  2013               1993\n",
       "5  2014               3511\n",
       "6  2015               4526\n",
       "7  2016               4464\n",
       "8  2017               6725\n",
       "9  2018              11707"
      ]
     },
     "execution_count": 72,
     "metadata": {
      "tags": []
     },
     "output_type": "execute_result"
    }
   ],
   "source": [
    "df_stud2.columns = ['Year', 'Students Activity']\n",
    "df_stud2.head(10)"
   ]
  },
  {
   "cell_type": "code",
   "execution_count": 74,
   "metadata": {
    "colab": {
     "base_uri": "https://localhost:8080/",
     "height": 329
    },
    "colab_type": "code",
    "id": "nCYqAB1GHSpN",
    "outputId": "597277b5-a339-41ec-80d3-98fed3487fa3"
   },
   "outputs": [
    {
     "data": {
      "text/plain": [
       "<matplotlib.axes._subplots.AxesSubplot at 0x7fa5126efc88>"
      ]
     },
     "execution_count": 74,
     "metadata": {
      "tags": []
     },
     "output_type": "execute_result"
    },
    {
     "data": {
      "image/png": "[encoded data removed]",
      "text/plain": [
       "<Figure size 432x288 with 1 Axes>"
      ]
     },
     "metadata": {
      "tags": []
     },
     "output_type": "display_data"
    }
   ],
   "source": [
    "df_stud2[0:11].set_index('Year').plot(kind = 'bar', color = ['purple'], title = 'Number of students activity')\n"
   ]
  },
  {
   "cell_type": "markdown",
   "metadata": {
    "colab_type": "text",
    "id": "imdTslfyH1T6"
   },
   "source": [
    "Aktywność studentów można oszacować na podstawie dat ostatnich logowań do serwisu. Widać, że aktywność studentów na portalu sukcesywnie wzrastała od kilku lat, jednak największy wzrost obserwuję się od roku 2018, gdzie liczba użytkowników wzrosła dwukrotnie oraz w pierwszym kwartale 2019 roku, gdzie wzrosła równiż dwukrotnie w stosunku do poprzedniego roku."
   ]
  },
  {
   "cell_type": "markdown",
   "metadata": {
    "colab_type": "text",
    "id": "C1iHNTjW085r"
   },
   "source": [
    "## 2.3 Analiza pytań i odpowiedzi studentów\n",
    "\n",
    "Ilość zadawanych przez studentów pytań oraz ich odpowiedzi w ujęciu czasowym"
   ]
  },
  {
   "cell_type": "code",
   "execution_count": 0,
   "metadata": {
    "colab": {},
    "colab_type": "code",
    "id": "Y3KXXBax08TF"
   },
   "outputs": [],
   "source": [
    "query6 = \"\"\"SELECT \n",
    "EXTRACT(YEAR FROM posts_questions.creation_date) AS Year,\n",
    "  COUNT(*) AS Number_of_Questions,\n",
    "  SUM(answer_count) AS Number_of_Answers\n",
    "FROM\n",
    "  `bigquery-public-data.stackoverflow.posts_questions` posts_questions\n",
    "JOIN\n",
    "  `bigquery-public-data.stackoverflow.users` users\n",
    "ON posts_questions.owner_user_id = users.id\n",
    "WHERE users.about_me like '%student%' OR users.about_me like '%Student%'\n",
    "GROUP BY\n",
    "  Year\n",
    "HAVING\n",
    "  Year > 2008 AND Year <= 2019\n",
    "ORDER BY\n",
    "  Year\n",
    "\"\"\""
   ]
  },
  {
   "cell_type": "code",
   "execution_count": 0,
   "metadata": {
    "colab": {},
    "colab_type": "code",
    "id": "NLSGFx_f5PuE"
   },
   "outputs": [],
   "source": [
    "df_stud3 = pd.read_gbq(query = query6, project_id = 'just-tracer-241713', dialect = 'standard')"
   ]
  },
  {
   "cell_type": "code",
   "execution_count": 27,
   "metadata": {
    "colab": {
     "base_uri": "https://localhost:8080/",
     "height": 426
    },
    "colab_type": "code",
    "id": "AZyjlUSB5dtG",
    "outputId": "f3098ad1-2385-4e76-96ff-8de105a7d068"
   },
   "outputs": [
    {
     "data": {
      "text/html": [
       "<div>\n",
       "<style scoped>\n",
       "    .dataframe tbody tr th:only-of-type {\n",
       "        vertical-align: middle;\n",
       "    }\n",
       "\n",
       "    .dataframe tbody tr th {\n",
       "        vertical-align: top;\n",
       "    }\n",
       "\n",
       "    .dataframe thead th {\n",
       "        text-align: right;\n",
       "    }\n",
       "</style>\n",
       "<table border=\"1\" class=\"dataframe\">\n",
       "  <thead>\n",
       "    <tr style=\"text-align: right;\">\n",
       "      <th></th>\n",
       "      <th>Number_of_Questions</th>\n",
       "      <th>Number_of_Answers</th>\n",
       "    </tr>\n",
       "    <tr>\n",
       "      <th>Year</th>\n",
       "      <th></th>\n",
       "      <th></th>\n",
       "    </tr>\n",
       "  </thead>\n",
       "  <tbody>\n",
       "    <tr>\n",
       "      <th>2009</th>\n",
       "      <td>2966</td>\n",
       "      <td>10755</td>\n",
       "    </tr>\n",
       "    <tr>\n",
       "      <th>2010</th>\n",
       "      <td>7759</td>\n",
       "      <td>20697</td>\n",
       "    </tr>\n",
       "    <tr>\n",
       "      <th>2011</th>\n",
       "      <td>13294</td>\n",
       "      <td>29954</td>\n",
       "    </tr>\n",
       "    <tr>\n",
       "      <th>2012</th>\n",
       "      <td>23783</td>\n",
       "      <td>46612</td>\n",
       "    </tr>\n",
       "    <tr>\n",
       "      <th>2013</th>\n",
       "      <td>30348</td>\n",
       "      <td>52925</td>\n",
       "    </tr>\n",
       "    <tr>\n",
       "      <th>2014</th>\n",
       "      <td>35082</td>\n",
       "      <td>53307</td>\n",
       "    </tr>\n",
       "    <tr>\n",
       "      <th>2015</th>\n",
       "      <td>40899</td>\n",
       "      <td>58259</td>\n",
       "    </tr>\n",
       "    <tr>\n",
       "      <th>2016</th>\n",
       "      <td>39741</td>\n",
       "      <td>54043</td>\n",
       "    </tr>\n",
       "    <tr>\n",
       "      <th>2017</th>\n",
       "      <td>39019</td>\n",
       "      <td>50345</td>\n",
       "    </tr>\n",
       "    <tr>\n",
       "      <th>2018</th>\n",
       "      <td>36542</td>\n",
       "      <td>41443</td>\n",
       "    </tr>\n",
       "    <tr>\n",
       "      <th>2019</th>\n",
       "      <td>15432</td>\n",
       "      <td>15568</td>\n",
       "    </tr>\n",
       "  </tbody>\n",
       "</table>\n",
       "</div>"
      ],
      "text/plain": [
       "      Number_of_Questions  Number_of_Answers\n",
       "Year                                        \n",
       "2009                 2966              10755\n",
       "2010                 7759              20697\n",
       "2011                13294              29954\n",
       "2012                23783              46612\n",
       "2013                30348              52925\n",
       "2014                35082              53307\n",
       "2015                40899              58259\n",
       "2016                39741              54043\n",
       "2017                39019              50345\n",
       "2018                36542              41443\n",
       "2019                15432              15568"
      ]
     },
     "execution_count": 27,
     "metadata": {
      "tags": []
     },
     "output_type": "execute_result"
    }
   ],
   "source": [
    "df_stud3.set_index('Year')"
   ]
  },
  {
   "cell_type": "code",
   "execution_count": 28,
   "metadata": {
    "colab": {
     "base_uri": "https://localhost:8080/",
     "height": 329
    },
    "colab_type": "code",
    "id": "rgn5jtriM_Mm",
    "outputId": "96b4bbf6-cae7-4d89-9579-11992bcaa4ce"
   },
   "outputs": [
    {
     "data": {
      "text/plain": [
       "Text(0.5, 1.0, 'Number of questions and answers asked by students')"
      ]
     },
     "execution_count": 28,
     "metadata": {
      "tags": []
     },
     "output_type": "execute_result"
    },
    {
     "data": {
      "image/png": "[encoded data removed]",
      "text/plain": [
       "<Figure size 432x288 with 1 Axes>"
      ]
     },
     "metadata": {
      "tags": []
     },
     "output_type": "display_data"
    }
   ],
   "source": [
    "df_stud3[0:10].set_index('Year').plot(kind = 'bar', color = ['red', 'green'])\n",
    "plt.title('Number of questions and answers asked by students')"
   ]
  },
  {
   "cell_type": "markdown",
   "metadata": {
    "colab_type": "text",
    "id": "h63JTEC2H4SJ"
   },
   "source": [
    "Wraz ze wzrostem ilości użytkowników deklarujacych status  studenta, wzrasta ilość zadawanych przez nich pytań oraz ilość udzielanych odpowiedzi. Największy przyrost zadawanych pytań można zauważyć pomiedzy 2012 a 2015 rokiem wraz ze wzrostem udzielonych na nie odpowiedzi. Od 2016 roku obserwuje się spadek ilości zadawanych pytań oraz ilości udzielanych odpowiedzi (zmalala znacznie więcej, niż ilość zadawanych pytań). Można stwierdzić, iż aktywność studentów w zdawaniu pytań utrzymuję się na stosunkowo stałym poziomie, natomiast aktywnośc w udzielaniu odpowiedzi dość wyraźnie spada."
   ]
  },
  {
   "cell_type": "markdown",
   "metadata": {
    "colab_type": "text",
    "id": "S46j9Th45zTY"
   },
   "source": [
    "## 2.4 Najpopularniejsze tagi wśród studentów\n",
    "### 2.4.1 Według zadawanych pytań"
   ]
  },
  {
   "cell_type": "code",
   "execution_count": 0,
   "metadata": {
    "colab": {},
    "colab_type": "code",
    "id": "VTKWjp4l5z9t"
   },
   "outputs": [],
   "source": [
    "query7 = \"\"\"SELECT\n",
    "EXTRACT(YEAR FROM posts_questions.creation_date) AS Year, owner_user_id, tags\n",
    "FROM \n",
    "    `bigquery-public-data.stackoverflow.posts_questions` posts_questions\n",
    "JOIN\n",
    "  `bigquery-public-data.stackoverflow.users` users\n",
    "ON posts_questions.owner_user_id = users.id\n",
    "WHERE users.about_me like '%Student%' OR users.about_me like '%student%'\n",
    "ORDER BY\n",
    "  Year ASC\n",
    "\"\"\""
   ]
  },
  {
   "cell_type": "code",
   "execution_count": 0,
   "metadata": {
    "colab": {},
    "colab_type": "code",
    "id": "-h3FwZpG9sws"
   },
   "outputs": [],
   "source": [
    "df3 = pd.read_gbq(query = query7, project_id = 'just-tracer-241713', dialect = 'standard')"
   ]
  },
  {
   "cell_type": "code",
   "execution_count": 32,
   "metadata": {
    "colab": {
     "base_uri": "https://localhost:8080/",
     "height": 238
    },
    "colab_type": "code",
    "id": "4InXC-2g9t_g",
    "outputId": "ad857f0d-d9f6-4239-a3e6-8054e897962d"
   },
   "outputs": [
    {
     "data": {
      "text/html": [
       "<div>\n",
       "<style scoped>\n",
       "    .dataframe tbody tr th:only-of-type {\n",
       "        vertical-align: middle;\n",
       "    }\n",
       "\n",
       "    .dataframe tbody tr th {\n",
       "        vertical-align: top;\n",
       "    }\n",
       "\n",
       "    .dataframe thead th {\n",
       "        text-align: right;\n",
       "    }\n",
       "</style>\n",
       "<table border=\"1\" class=\"dataframe\">\n",
       "  <thead>\n",
       "    <tr style=\"text-align: right;\">\n",
       "      <th></th>\n",
       "      <th>owner_user_id</th>\n",
       "      <th>tags</th>\n",
       "    </tr>\n",
       "    <tr>\n",
       "      <th>Year</th>\n",
       "      <th></th>\n",
       "      <th></th>\n",
       "    </tr>\n",
       "  </thead>\n",
       "  <tbody>\n",
       "    <tr>\n",
       "      <th>2008</th>\n",
       "      <td>12722</td>\n",
       "      <td>asp.net|exception-handling|web|httpunhandledex...</td>\n",
       "    </tr>\n",
       "    <tr>\n",
       "      <th>2008</th>\n",
       "      <td>1288</td>\n",
       "      <td>c++|string|double</td>\n",
       "    </tr>\n",
       "    <tr>\n",
       "      <th>2008</th>\n",
       "      <td>396</td>\n",
       "      <td>css|printing</td>\n",
       "    </tr>\n",
       "    <tr>\n",
       "      <th>2008</th>\n",
       "      <td>1288</td>\n",
       "      <td>java|comparison|versioning</td>\n",
       "    </tr>\n",
       "    <tr>\n",
       "      <th>2008</th>\n",
       "      <td>47438</td>\n",
       "      <td>java|swing|jpanel|jlist</td>\n",
       "    </tr>\n",
       "  </tbody>\n",
       "</table>\n",
       "</div>"
      ],
      "text/plain": [
       "      owner_user_id                                               tags\n",
       "Year                                                                  \n",
       "2008          12722  asp.net|exception-handling|web|httpunhandledex...\n",
       "2008           1288                                  c++|string|double\n",
       "2008            396                                       css|printing\n",
       "2008           1288                         java|comparison|versioning\n",
       "2008          47438                            java|swing|jpanel|jlist"
      ]
     },
     "execution_count": 32,
     "metadata": {
      "tags": []
     },
     "output_type": "execute_result"
    }
   ],
   "source": [
    "df3.set_index('Year').head()"
   ]
  },
  {
   "cell_type": "code",
   "execution_count": 0,
   "metadata": {
    "colab": {},
    "colab_type": "code",
    "id": "k9gt7e8EQOeV"
   },
   "outputs": [],
   "source": [
    "stud = pd.DataFrame(df3.tags.str.split('|').tolist(), index=df3.Year).stack()"
   ]
  },
  {
   "cell_type": "code",
   "execution_count": 34,
   "metadata": {
    "colab": {
     "base_uri": "https://localhost:8080/",
     "height": 146
    },
    "colab_type": "code",
    "id": "OH7aOQtPUxQz",
    "outputId": "c56f48c2-2371-4021-b1a3-8be13aac1dd4"
   },
   "outputs": [
    {
     "data": {
      "text/plain": [
       "Year   \n",
       "2008  0                   asp.net\n",
       "      1        exception-handling\n",
       "      2                       web\n",
       "      3    httpunhandledexception\n",
       "      0                       c++\n",
       "dtype: object"
      ]
     },
     "execution_count": 34,
     "metadata": {
      "tags": []
     },
     "output_type": "execute_result"
    }
   ],
   "source": [
    "stud.head()"
   ]
  },
  {
   "cell_type": "code",
   "execution_count": 35,
   "metadata": {
    "colab": {
     "base_uri": "https://localhost:8080/",
     "height": 206
    },
    "colab_type": "code",
    "id": "Kwa5j4sldC9J",
    "outputId": "7ef105d5-1a0f-4444-bb12-c9695574e1f7"
   },
   "outputs": [
    {
     "data": {
      "text/html": [
       "<div>\n",
       "<style scoped>\n",
       "    .dataframe tbody tr th:only-of-type {\n",
       "        vertical-align: middle;\n",
       "    }\n",
       "\n",
       "    .dataframe tbody tr th {\n",
       "        vertical-align: top;\n",
       "    }\n",
       "\n",
       "    .dataframe thead th {\n",
       "        text-align: right;\n",
       "    }\n",
       "</style>\n",
       "<table border=\"1\" class=\"dataframe\">\n",
       "  <thead>\n",
       "    <tr style=\"text-align: right;\">\n",
       "      <th></th>\n",
       "      <th>Year</th>\n",
       "      <th>0</th>\n",
       "    </tr>\n",
       "  </thead>\n",
       "  <tbody>\n",
       "    <tr>\n",
       "      <th>0</th>\n",
       "      <td>2008</td>\n",
       "      <td>asp.net</td>\n",
       "    </tr>\n",
       "    <tr>\n",
       "      <th>1</th>\n",
       "      <td>2008</td>\n",
       "      <td>exception-handling</td>\n",
       "    </tr>\n",
       "    <tr>\n",
       "      <th>2</th>\n",
       "      <td>2008</td>\n",
       "      <td>web</td>\n",
       "    </tr>\n",
       "    <tr>\n",
       "      <th>3</th>\n",
       "      <td>2008</td>\n",
       "      <td>httpunhandledexception</td>\n",
       "    </tr>\n",
       "    <tr>\n",
       "      <th>4</th>\n",
       "      <td>2008</td>\n",
       "      <td>c++</td>\n",
       "    </tr>\n",
       "  </tbody>\n",
       "</table>\n",
       "</div>"
      ],
      "text/plain": [
       "   Year                       0\n",
       "0  2008                 asp.net\n",
       "1  2008      exception-handling\n",
       "2  2008                     web\n",
       "3  2008  httpunhandledexception\n",
       "4  2008                     c++"
      ]
     },
     "execution_count": 35,
     "metadata": {
      "tags": []
     },
     "output_type": "execute_result"
    }
   ],
   "source": [
    "stud2 = stud.reset_index([0, 'Year'])\n",
    "stud2.head()"
   ]
  },
  {
   "cell_type": "code",
   "execution_count": 36,
   "metadata": {
    "colab": {
     "base_uri": "https://localhost:8080/",
     "height": 206
    },
    "colab_type": "code",
    "id": "AELW6SUqdCrT",
    "outputId": "3ec875df-20c0-4a5c-9e3c-ed5754433d1a"
   },
   "outputs": [
    {
     "data": {
      "text/html": [
       "<div>\n",
       "<style scoped>\n",
       "    .dataframe tbody tr th:only-of-type {\n",
       "        vertical-align: middle;\n",
       "    }\n",
       "\n",
       "    .dataframe tbody tr th {\n",
       "        vertical-align: top;\n",
       "    }\n",
       "\n",
       "    .dataframe thead th {\n",
       "        text-align: right;\n",
       "    }\n",
       "</style>\n",
       "<table border=\"1\" class=\"dataframe\">\n",
       "  <thead>\n",
       "    <tr style=\"text-align: right;\">\n",
       "      <th></th>\n",
       "      <th>Year</th>\n",
       "      <th>tag</th>\n",
       "    </tr>\n",
       "  </thead>\n",
       "  <tbody>\n",
       "    <tr>\n",
       "      <th>0</th>\n",
       "      <td>2008</td>\n",
       "      <td>asp.net</td>\n",
       "    </tr>\n",
       "    <tr>\n",
       "      <th>1</th>\n",
       "      <td>2008</td>\n",
       "      <td>exception-handling</td>\n",
       "    </tr>\n",
       "    <tr>\n",
       "      <th>2</th>\n",
       "      <td>2008</td>\n",
       "      <td>web</td>\n",
       "    </tr>\n",
       "    <tr>\n",
       "      <th>3</th>\n",
       "      <td>2008</td>\n",
       "      <td>httpunhandledexception</td>\n",
       "    </tr>\n",
       "    <tr>\n",
       "      <th>4</th>\n",
       "      <td>2008</td>\n",
       "      <td>c++</td>\n",
       "    </tr>\n",
       "  </tbody>\n",
       "</table>\n",
       "</div>"
      ],
      "text/plain": [
       "   Year                     tag\n",
       "0  2008                 asp.net\n",
       "1  2008      exception-handling\n",
       "2  2008                     web\n",
       "3  2008  httpunhandledexception\n",
       "4  2008                     c++"
      ]
     },
     "execution_count": 36,
     "metadata": {
      "tags": []
     },
     "output_type": "execute_result"
    }
   ],
   "source": [
    "stud2.columns = ['Year', 'tag']\n",
    "stud2.head()"
   ]
  },
  {
   "cell_type": "code",
   "execution_count": 37,
   "metadata": {
    "colab": {
     "base_uri": "https://localhost:8080/",
     "height": 311
    },
    "colab_type": "code",
    "id": "bRZEv0XMfj5-",
    "outputId": "689c9f15-8c20-409d-b383-5974d05feba4"
   },
   "outputs": [
    {
     "data": {
      "text/plain": [
       "python        31401\n",
       "java          31030\n",
       "javascript    26209\n",
       "android       20314\n",
       "c#            20245\n",
       "c++           18063\n",
       "php           16310\n",
       "html          13708\n",
       "jquery        10515\n",
       "c              9753\n",
       "r              9154\n",
       "css            8665\n",
       "mysql          7754\n",
       "ios            7639\n",
       "arrays         6716\n",
       "Name: tag, dtype: int64"
      ]
     },
     "execution_count": 37,
     "metadata": {
      "tags": []
     },
     "output_type": "execute_result"
    }
   ],
   "source": [
    "#Ilość powtórzeń każdego taga\n",
    "tag_stud = stud2.tag.value_counts()\n",
    "tag_stud.head(15)"
   ]
  },
  {
   "cell_type": "code",
   "execution_count": 38,
   "metadata": {
    "colab": {
     "base_uri": "https://localhost:8080/",
     "height": 35
    },
    "colab_type": "code",
    "id": "wLNDQXoqiBoH",
    "outputId": "a559df3b-b67f-4d34-8121-41299c460ecd"
   },
   "outputs": [
    {
     "data": {
      "text/plain": [
       "26181"
      ]
     },
     "execution_count": 38,
     "metadata": {
      "tags": []
     },
     "output_type": "execute_result"
    }
   ],
   "source": [
    "# Ilość tagów\n",
    "stud2.tag.nunique()"
   ]
  },
  {
   "cell_type": "code",
   "execution_count": 71,
   "metadata": {
    "colab": {
     "base_uri": "https://localhost:8080/",
     "height": 393
    },
    "colab_type": "code",
    "id": "EKEuihq2iI4p",
    "outputId": "4527da71-7264-4bf8-caa0-e3d812d85359"
   },
   "outputs": [
    {
     "data": {
      "text/plain": [
       "<matplotlib.axes._subplots.AxesSubplot at 0x7fa512a392e8>"
      ]
     },
     "execution_count": 71,
     "metadata": {
      "tags": []
     },
     "output_type": "execute_result"
    },
    {
     "data": {
      "image/png": "[encoded data removed]",
      "text/plain": [
       "<Figure size 504x360 with 1 Axes>"
      ]
     },
     "metadata": {
      "tags": []
     },
     "output_type": "display_data"
    }
   ],
   "source": [
    "tag_stud.head(10).plot(kind = 'bar', color = ['violet'], title = 'The most popular tags among students according to questions ', figsize = [7,5])"
   ]
  },
  {
   "cell_type": "markdown",
   "metadata": {
    "colab_type": "text",
    "id": "JfJYIAjlMlO2"
   },
   "source": [
    "Najczęściej pojawiającymi się tagami według zadawanych przez studentów pytań są  tagi dotyczące języków *Python*, *Jav*a oraz *JavaScript*. Kolejnymi równie popularnymi są *Android*, *C#* oraz *C++*.  Widać, że pośród studentów najpopularniejszymi językami są *Python* i *Java* i to właśnie o nie najczęściej pytaja studenci."
   ]
  },
  {
   "cell_type": "markdown",
   "metadata": {
    "colab_type": "text",
    "id": "5Yt3PReIEpyu"
   },
   "source": [
    "### 2.4.2 Według tagów"
   ]
  },
  {
   "cell_type": "code",
   "execution_count": 0,
   "metadata": {
    "colab": {},
    "colab_type": "code",
    "id": "vfVlOlXUEo8Y"
   },
   "outputs": [],
   "source": [
    "query8 = \"\"\"SELECT tag_name, count\n",
    "FROM `bigquery-public-data.stackoverflow.tags` tags\n",
    "JOIN\n",
    "  `bigquery-public-data.stackoverflow.users` users\n",
    "ON tags.id = users.id\n",
    "WHERE users.about_me like '%Student%' OR users.about_me like '%student%'\n",
    "ORDER BY\n",
    "  count DESC\n",
    "\"\"\""
   ]
  },
  {
   "cell_type": "code",
   "execution_count": 0,
   "metadata": {
    "colab": {},
    "colab_type": "code",
    "id": "7InSTPqAE2f4"
   },
   "outputs": [],
   "source": [
    "df_tag2 = pd.read_gbq(query = query8, project_id = 'just-tracer-241713', dialect = 'standard')"
   ]
  },
  {
   "cell_type": "code",
   "execution_count": 64,
   "metadata": {
    "colab": {
     "base_uri": "https://localhost:8080/",
     "height": 363
    },
    "colab_type": "code",
    "id": "PNjoRW6mE5ZL",
    "outputId": "b5a75a7c-0f1b-4b43-bf2d-794baac3d47e"
   },
   "outputs": [
    {
     "data": {
      "text/html": [
       "<div>\n",
       "<style scoped>\n",
       "    .dataframe tbody tr th:only-of-type {\n",
       "        vertical-align: middle;\n",
       "    }\n",
       "\n",
       "    .dataframe tbody tr th {\n",
       "        vertical-align: top;\n",
       "    }\n",
       "\n",
       "    .dataframe thead th {\n",
       "        text-align: right;\n",
       "    }\n",
       "</style>\n",
       "<table border=\"1\" class=\"dataframe\">\n",
       "  <thead>\n",
       "    <tr style=\"text-align: right;\">\n",
       "      <th></th>\n",
       "      <th>Tag name</th>\n",
       "      <th>count</th>\n",
       "    </tr>\n",
       "  </thead>\n",
       "  <tbody>\n",
       "    <tr>\n",
       "      <th>0</th>\n",
       "      <td>parameters</td>\n",
       "      <td>16796</td>\n",
       "    </tr>\n",
       "    <tr>\n",
       "      <th>1</th>\n",
       "      <td>location</td>\n",
       "      <td>8144</td>\n",
       "    </tr>\n",
       "    <tr>\n",
       "      <th>2</th>\n",
       "      <td>google-play-services</td>\n",
       "      <td>6374</td>\n",
       "    </tr>\n",
       "    <tr>\n",
       "      <th>3</th>\n",
       "      <td>command-line-interface</td>\n",
       "      <td>5796</td>\n",
       "    </tr>\n",
       "    <tr>\n",
       "      <th>4</th>\n",
       "      <td>maven-2</td>\n",
       "      <td>5565</td>\n",
       "    </tr>\n",
       "    <tr>\n",
       "      <th>5</th>\n",
       "      <td>vectorization</td>\n",
       "      <td>4268</td>\n",
       "    </tr>\n",
       "    <tr>\n",
       "      <th>6</th>\n",
       "      <td>lxml</td>\n",
       "      <td>4108</td>\n",
       "    </tr>\n",
       "    <tr>\n",
       "      <th>7</th>\n",
       "      <td>sprite</td>\n",
       "      <td>4094</td>\n",
       "    </tr>\n",
       "    <tr>\n",
       "      <th>8</th>\n",
       "      <td>user-defined-functions</td>\n",
       "      <td>3066</td>\n",
       "    </tr>\n",
       "    <tr>\n",
       "      <th>9</th>\n",
       "      <td>iphone-sdk-3.0</td>\n",
       "      <td>2793</td>\n",
       "    </tr>\n",
       "  </tbody>\n",
       "</table>\n",
       "</div>"
      ],
      "text/plain": [
       "                 Tag name  count\n",
       "0              parameters  16796\n",
       "1                location   8144\n",
       "2    google-play-services   6374\n",
       "3  command-line-interface   5796\n",
       "4                 maven-2   5565\n",
       "5           vectorization   4268\n",
       "6                    lxml   4108\n",
       "7                  sprite   4094\n",
       "8  user-defined-functions   3066\n",
       "9          iphone-sdk-3.0   2793"
      ]
     },
     "execution_count": 64,
     "metadata": {
      "tags": []
     },
     "output_type": "execute_result"
    }
   ],
   "source": [
    "df_tag2.columns = ['Tag name', 'count']\n",
    "df_tag2.head(10)"
   ]
  },
  {
   "cell_type": "code",
   "execution_count": 68,
   "metadata": {
    "colab": {
     "base_uri": "https://localhost:8080/",
     "height": 422
    },
    "colab_type": "code",
    "id": "OlvcC3pwsN5v",
    "outputId": "80a066ca-4cf2-4a9e-ee5b-1d8bb3fc1afd"
   },
   "outputs": [
    {
     "data": {
      "text/plain": [
       "Text(0.5, 1.0, 'The most popular tags among students by tags')"
      ]
     },
     "execution_count": 68,
     "metadata": {
      "tags": []
     },
     "output_type": "execute_result"
    },
    {
     "data": {
      "image/png": "[encoded data removed]",
      "text/plain": [
       "<Figure size 576x432 with 1 Axes>"
      ]
     },
     "metadata": {
      "tags": []
     },
     "output_type": "display_data"
    }
   ],
   "source": [
    "plt.figure(figsize = (8,6))\n",
    "sns.barplot(y = 'Tag name', x = 'count', data = df_tag2.head(10), palette = 'inferno')\n",
    "plt.title('The most popular tags among students by tags')"
   ]
  },
  {
   "cell_type": "markdown",
   "metadata": {
    "colab_type": "text",
    "id": "b-8WeW49vwz5"
   },
   "source": [
    "Najczęściej tagowane przez studentów sa hasła takie jak *parameters* oraz kolejno *location * i *google-play-services*. Padaja najczęsciej hasła związane programowaniem, linią komend oraz najnowszymi technologiami."
   ]
  }
 ],
 "metadata": {
  "colab": {
   "collapsed_sections": [],
   "name": "Analiza StacOverflowData",
   "provenance": [],
   "version": "0.3.2"
  },
  "kernelspec": {
   "display_name": "Python 3",
   "language": "python",
   "name": "python3"
  },
  "language_info": {
   "codemirror_mode": {
    "name": "ipython",
    "version": 3
   },
   "file_extension": ".py",
   "mimetype": "text/x-python",
   "name": "python",
   "nbconvert_exporter": "python",
   "pygments_lexer": "ipython3",
   "version": "3.6.7"
  }
 },
 "nbformat": 4,
 "nbformat_minor": 1
}
